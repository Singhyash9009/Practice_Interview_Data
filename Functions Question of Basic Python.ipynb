{
 "cells": [
  {
   "cell_type": "markdown",
   "id": "1516cf5f",
   "metadata": {},
   "source": [
    "### 1) Take input of 2 numbers from user and print Fibonacci series"
   ]
  },
  {
   "cell_type": "code",
   "execution_count": 26,
   "id": "d162cbb1",
   "metadata": {},
   "outputs": [
    {
     "name": "stdout",
     "output_type": "stream",
     "text": [
      "Enter 1st no.: 0\n",
      "Enter 2nd no.: 1\n",
      "Enter upper limit no.: 45\n",
      "0\n",
      "1\n",
      "1\n",
      "2\n",
      "3\n",
      "5\n",
      "8\n",
      "13\n",
      "21\n",
      "34\n"
     ]
    }
   ],
   "source": [
    "# enter the 1st number\n",
    "x=int(input(\"Enter 1st no.: \"))\n",
    "# enter the 2nd number\n",
    "y=int(input(\"Enter 2nd no.: \"))\n",
    "num=int(input(\"Enter upper limit no.: \"))\n",
    "z=x\n",
    "while z<=num:\n",
    "    print(z)\n",
    "    x=y\n",
    "    y=z\n",
    "    z=x+y\n"
   ]
  },
  {
   "cell_type": "markdown",
   "id": "40e6e94e",
   "metadata": {},
   "source": [
    "### 2) Count number of digits in an integer entered by the user"
   ]
  },
  {
   "cell_type": "code",
   "execution_count": 31,
   "id": "29ab0740",
   "metadata": {},
   "outputs": [
    {
     "name": "stdout",
     "output_type": "stream",
     "text": [
      "Enter the digit: 123456789\n",
      "Number of digits in an integer is: 9\n"
     ]
    }
   ],
   "source": [
    "#User input fo digits enter\n",
    "num=int(input(\"Enter the digit: \"))\n",
    "\n",
    "#printing the result\n",
    "print(\"Number of digits in an integer is:\",len(str(num)))"
   ]
  },
  {
   "cell_type": "markdown",
   "id": "aba5b306",
   "metadata": {},
   "source": [
    "### 3) Create a list of 5 email id's in the format\n",
    "\n",
    "* firstname.lastname@domain\n",
    "**Return the employee’s first name and last name from the list in below format**\n",
    "* Firstname lastname\n"
   ]
  },
  {
   "cell_type": "code",
   "execution_count": 54,
   "id": "a041790d",
   "metadata": {
    "scrolled": true
   },
   "outputs": [
    {
     "name": "stdout",
     "output_type": "stream",
     "text": [
      "yash.singh@gmail.com\n",
      "Result: Yash singh\n",
      "\n",
      "upendra.singh@gmail.com\n",
      "Result: Upendra singh\n",
      "\n",
      "raghvendra.singh@gmail.com\n",
      "Result: Raghvendra singh\n",
      "\n",
      "shubham.verma@gmail.com\n",
      "Result: Shubham verma\n",
      "\n",
      "rudra.singh@gmail.com\n",
      "Result: Rudra singh\n",
      "\n"
     ]
    }
   ],
   "source": [
    "import re\n",
    "# matching the pattern to find only firstname and lastname\n",
    "pattern=re.compile('\\w*\\.\\w*')\n",
    "\n",
    "# list of email id's\n",
    "email=['yash.singh@gmail.com','upendra.singh@gmail.com','raghvendra.singh@gmail.com','shubham.verma@gmail.com','rudra.singh@gmail.com']\n",
    "\n",
    "for i in email:\n",
    "    #printing the email id's\n",
    "    print(i)\n",
    "    name=re.match(pattern,i).group()\n",
    "    name.split('.')\n",
    "    #printing the result as required\n",
    "    print('Result:',' '.join(name.split('.')).capitalize())\n",
    "    print()\n"
   ]
  },
  {
   "cell_type": "markdown",
   "id": "941c4007",
   "metadata": {},
   "source": [
    "### 4) Write a Python program to create a function that takes two integers as input and returns their sum"
   ]
  },
  {
   "cell_type": "code",
   "execution_count": 3,
   "id": "16d8c4ea",
   "metadata": {},
   "outputs": [
    {
     "name": "stdout",
     "output_type": "stream",
     "text": [
      "Enter the 1st intger: 23\n",
      "Enter the 2nd intger: 45\n",
      "Sum of two intgers is: 68\n"
     ]
    }
   ],
   "source": [
    "def sum_two_integer(x,y):\n",
    "    #user input\n",
    "    x=int(input('Enter the 1st intger: '))\n",
    "    y=int(input('Enter the 2nd intger: '))\n",
    "    \n",
    "    #printing the result from defition\n",
    "    print('Sum of two intgers is:',x+y)\n",
    "\n",
    "sum_two_integer(23,45)"
   ]
  },
  {
   "cell_type": "markdown",
   "id": "862ae16b",
   "metadata": {},
   "source": [
    "### 5) Write a Python program to create a function that takes a string as input and returns the number of characters in the string."
   ]
  },
  {
   "cell_type": "code",
   "execution_count": 17,
   "id": "54a5b996",
   "metadata": {},
   "outputs": [
    {
     "name": "stdout",
     "output_type": "stream",
     "text": [
      "Count of characters in the string are: 8\n"
     ]
    }
   ],
   "source": [
    "def string_count(text):\n",
    "    print('Count of characters in the string are:',len(str(text)))\n",
    "    \n",
    "    \n",
    "string_count('abcd1234')"
   ]
  },
  {
   "cell_type": "markdown",
   "id": "72869bfe",
   "metadata": {},
   "source": [
    "### 6) Write a Python program to create a function that takes a list of numbers as input and returns the sum of all the numbers."
   ]
  },
  {
   "cell_type": "code",
   "execution_count": 37,
   "id": "f0730761",
   "metadata": {},
   "outputs": [
    {
     "name": "stdout",
     "output_type": "stream",
     "text": [
      "Enter the numbers separated by space:1 2 3 4 5 6 7 8 9\n",
      "Sum of all numbers is: 45\n"
     ]
    }
   ],
   "source": [
    "def sum_num(numbers):\n",
    "    #User input separated by space\n",
    "    numbers=input(\"Enter the numbers separated by space:\")  \n",
    "    numbers_split=numbers.split(\" \")\n",
    "    #creating list of integers\n",
    "    list_num=[int(num) for num in numbers_split]\n",
    "    sum=0\n",
    "    for num in list_num:\n",
    "        sum+=num\n",
    "    # returning the result\n",
    "    return print('Sum of all numbers is:',sum)    \n",
    "        \n",
    "    \n",
    "sum_num(numbers)"
   ]
  },
  {
   "cell_type": "markdown",
   "id": "f0572030",
   "metadata": {},
   "source": [
    "### 7) Write a Python program to create a function that takes a list of numbers as input and returns the average of all the numbers."
   ]
  },
  {
   "cell_type": "code",
   "execution_count": 54,
   "id": "0be9282b",
   "metadata": {},
   "outputs": [
    {
     "name": "stdout",
     "output_type": "stream",
     "text": [
      "Enter the numbers separted by space: 1 2 3 4 5\n",
      "Average of numbers as input is: 3.0\n"
     ]
    }
   ],
   "source": [
    "def avg_num(num_input):\n",
    "    #User input separated having space\n",
    "    num_input= input('Enter the numbers separted by space: ')\n",
    "    \n",
    "    num_split=num_input.split(' ')\n",
    "    #creating list of integers\n",
    "    numbers = [int(num) for num in  num_split]\n",
    "    sum=0\n",
    "    \n",
    "    for num in numbers:\n",
    "        sum+=num\n",
    "        \n",
    "    return print('Average of numbers as input is:',sum/len(numbers))\n",
    "    \n",
    "avg_num(num_input)\n",
    "    \n"
   ]
  },
  {
   "cell_type": "markdown",
   "id": "beeccc1a",
   "metadata": {},
   "source": [
    "### 8) Write Python program to create a function that takes a string as input and returns a string with all the vowels a removed."
   ]
  },
  {
   "cell_type": "code",
   "execution_count": 73,
   "id": "e28efd95",
   "metadata": {},
   "outputs": [
    {
     "name": "stdout",
     "output_type": "stream",
     "text": [
      "Enter the string here: abcdiefghouaa\n"
     ]
    },
    {
     "data": {
      "text/plain": [
       "'bcdghgk'"
      ]
     },
     "execution_count": 73,
     "metadata": {},
     "output_type": "execute_result"
    }
   ],
   "source": [
    "def vowels_remove():\n",
    "    #Enter string user input \n",
    "    string=input(\"Enter the string here: \")\n",
    "\n",
    "     \n",
    "    wo_vowels=''\n",
    "    for i in s:\n",
    "        #to match vowels in the user input\n",
    "        vowels='aeiouAEIOU'\n",
    "        if i not in vowels:\n",
    "            wo_vowels+=i\n",
    "            \n",
    "    return wo_vowels\n",
    "\n",
    "vowels_remove()"
   ]
  },
  {
   "cell_type": "markdown",
   "id": "d762383b",
   "metadata": {},
   "source": [
    "### 9) Write a Python program to create a function that takes a list of strings as input and returns a new list with all the strings capitalized."
   ]
  },
  {
   "cell_type": "code",
   "execution_count": 78,
   "id": "f31c54d2",
   "metadata": {},
   "outputs": [
    {
     "name": "stdout",
     "output_type": "stream",
     "text": [
      "Enter the string separated by spaceyash sanchi rudra gauravi\n"
     ]
    },
    {
     "data": {
      "text/plain": [
       "['Yash', 'Sanchi', 'Rudra', 'Gauravi']"
      ]
     },
     "execution_count": 78,
     "metadata": {},
     "output_type": "execute_result"
    }
   ],
   "source": [
    "def capitalize_str():\n",
    "    #user input separated by space\n",
    "    l=input(\"Enter the string separated by space\")\n",
    "    # split at space between strings\n",
    "    l_split=l.split(' ')\n",
    "\n",
    "    list(l_split)\n",
    "    #Return 1st letter capitaliza of words\n",
    "    return [str(st.capitalize()) for st in l_split ]\n",
    "\n",
    "capitalize_str()"
   ]
  },
  {
   "cell_type": "markdown",
   "id": "c86e6bdc",
   "metadata": {},
   "source": [
    "### 10) Write a Python program to create a function that takes a string as input and returns a string with all the words reversed."
   ]
  },
  {
   "cell_type": "code",
   "execution_count": 97,
   "id": "dc9400f0",
   "metadata": {},
   "outputs": [
    {
     "name": "stdout",
     "output_type": "stream",
     "text": [
      "Enter the string separated by space: I went to Ram Mandir yesterday.\n"
     ]
    },
    {
     "data": {
      "text/plain": [
       "'I tnew ot maR ridnaM .yadretsey'"
      ]
     },
     "execution_count": 97,
     "metadata": {},
     "output_type": "execute_result"
    }
   ],
   "source": [
    "def reversed_str():\n",
    "    #user input separated by space\n",
    "    string=input(\"Enter the string separated by space: \")\n",
    "    # split at space between strings  \n",
    "    words=string.split(' ')\n",
    "    #Reversing all the words at it's place\n",
    "    l=[' '.join((word[::-1]) for word in words) ]\n",
    "    return ' '.join(l)\n",
    "\n",
    "reversed_str()"
   ]
  },
  {
   "cell_type": "markdown",
   "id": "a7218b81",
   "metadata": {},
   "source": [
    "### 11) Write a Python program to create a function that takes a list of numbers as input and returns a new list with all the even numbers."
   ]
  },
  {
   "cell_type": "code",
   "execution_count": 140,
   "id": "4424fb42",
   "metadata": {},
   "outputs": [
    {
     "name": "stdout",
     "output_type": "stream",
     "text": [
      "Enter number separated by space: 2 1 3 4 5 66 78 98 67\n",
      "List of even numbers from the numbers enter as input:  [2, 4, 66, 78, 98]\n"
     ]
    }
   ],
   "source": [
    "def even_no():\n",
    "    #user input separated by space\n",
    "    input_no=input('Enter number separated by space: ')\n",
    "    # split at space between strings\n",
    "    split_no=input_no.split()\n",
    "    li=list((split_no))\n",
    "    # making list of integer\n",
    "    list_int=[int(num) for num in li]\n",
    "    l=[]\n",
    "    for num in list_int:\n",
    "        if num%2==0:\n",
    "            l.append(num)\n",
    "    print('List of even numbers from the numbers enter as input: ',l)\n",
    "    \n",
    "even_no()"
   ]
  },
  {
   "cell_type": "markdown",
   "id": "c10e14b6",
   "metadata": {},
   "source": [
    "### 12) Write a Python program to create a function that takes a list of numbers as input and returns a new list with all the odd numbers."
   ]
  },
  {
   "cell_type": "code",
   "execution_count": 233,
   "id": "7ffbd41b",
   "metadata": {},
   "outputs": [
    {
     "name": "stdout",
     "output_type": "stream",
     "text": [
      "Enter number separated by space: 1 2 4 6 3 5 7 9 89 67 45\n",
      "List of odd numbers from the numbers enter as input:  [1, 3, 5, 7, 9, 89, 67, 45]\n"
     ]
    }
   ],
   "source": [
    "def odd_no():\n",
    "    #user input separated by space\n",
    "    input_no=input('Enter number separated by space: ')\n",
    "    # split at space between strings\n",
    "    num_split=list(input_no.split())\n",
    "    # making list of integer\n",
    "    li=[int(num) for num in num_split]\n",
    "    \n",
    "    l_odd=[]\n",
    "    \n",
    "    for num in li:\n",
    "        #\n",
    "        if num%2!=0:\n",
    "            l_odd.append(num)\n",
    "    print('List of odd numbers from the numbers enter as input: ',l_odd)\n",
    "odd_no()"
   ]
  },
  {
   "cell_type": "markdown",
   "id": "b0f4b093",
   "metadata": {},
   "source": [
    "### 13) Write a Python program to create a function that takes a string as input and returns a string with all the characters in reverse order."
   ]
  },
  {
   "cell_type": "code",
   "execution_count": 143,
   "id": "aaca05d0",
   "metadata": {},
   "outputs": [
    {
     "name": "stdout",
     "output_type": "stream",
     "text": [
      "Enter the string: 'Hello , Good Morning all of you!!'\n",
      "String's all character's in reverse order:  '!!uoy fo lla gninroM dooG , olleH'\n"
     ]
    }
   ],
   "source": [
    "def rev_str():\n",
    "    #user input separated by space\n",
    "    text=input('Enter the string: ')\n",
    "    \n",
    "    print(\"String's all character's in reverse order: \",text[::-1])\n",
    "    \n",
    "rev_str()\n",
    "    \n",
    "    "
   ]
  },
  {
   "cell_type": "markdown",
   "id": "6f2df803",
   "metadata": {},
   "source": [
    "### 14) Write a Python program to create a function that takes a list of strings as input and returns a new list with all the strings sorted in alphabetical order."
   ]
  },
  {
   "cell_type": "code",
   "execution_count": 156,
   "id": "4d0e8bd1",
   "metadata": {},
   "outputs": [
    {
     "name": "stdout",
     "output_type": "stream",
     "text": [
      "Enter the string separated by space: a s d f\n"
     ]
    },
    {
     "data": {
      "text/plain": [
       "['a', 'd', 'f', 's']"
      ]
     },
     "execution_count": 156,
     "metadata": {},
     "output_type": "execute_result"
    }
   ],
   "source": [
    "def alp_order():\n",
    "    #user input separated by space\n",
    "    inp=input('Enter the string separated by space: ')\n",
    "    \n",
    "    inp_split=inp.split(' ')\n",
    "    \n",
    "    return (sorted(inp_split))\n",
    "alp_order()"
   ]
  },
  {
   "cell_type": "markdown",
   "id": "0ec02440",
   "metadata": {},
   "source": [
    "### 15) Write a Python program to create a function that takes a list of numbers as input and returns the largest number in the list."
   ]
  },
  {
   "cell_type": "code",
   "execution_count": 171,
   "id": "0066dd70",
   "metadata": {},
   "outputs": [
    {
     "name": "stdout",
     "output_type": "stream",
     "text": [
      "Enter the numbers with space between : 12 23 345 56 78 90 23 45\n"
     ]
    },
    {
     "data": {
      "text/plain": [
       "345"
      ]
     },
     "execution_count": 171,
     "metadata": {},
     "output_type": "execute_result"
    }
   ],
   "source": [
    "def max_no():\n",
    "    # Get the user input\n",
    "    input_string=input('Enter the numbers with space between : ')\n",
    "    # Checking the space is given in between number's or not\n",
    "    if ' ' in input_string:\n",
    "         input_string=input_string\n",
    "    else:\n",
    "         input_string=' '.join(input_string)\n",
    "    # making list of integer\n",
    "    li=[int(num) for num in input_string.split()]\n",
    "    \n",
    "    return max(li)\n",
    "\n",
    "max_no()"
   ]
  },
  {
   "cell_type": "markdown",
   "id": "a5047e62",
   "metadata": {},
   "source": [
    "### 16) Write a Python program to create a function that takes a list of numbers as input and returns the smallest number in the list."
   ]
  },
  {
   "cell_type": "code",
   "execution_count": 173,
   "id": "a57303af",
   "metadata": {},
   "outputs": [
    {
     "name": "stdout",
     "output_type": "stream",
     "text": [
      "Enter the numbers with space between : 12 34 56 87 89 12 34 5 6 7 \n"
     ]
    },
    {
     "data": {
      "text/plain": [
       "5"
      ]
     },
     "execution_count": 173,
     "metadata": {},
     "output_type": "execute_result"
    }
   ],
   "source": [
    "def min_no():\n",
    "    # Get the user input\n",
    "    input_string=input('Enter the numbers with space between : ')\n",
    "    # Checking the space is given in between number's or not\n",
    "    if ' ' in input_string:\n",
    "         input_string=input_string\n",
    "    else:\n",
    "         input_string=' '.join(input_string)\n",
    "    # making list of integer\n",
    "    li=[int(num) for num in input_string.split()]\n",
    "    \n",
    "    return min(li)\n",
    "\n",
    "min_no()"
   ]
  },
  {
   "cell_type": "markdown",
   "id": "6030bffa",
   "metadata": {},
   "source": [
    "### 17) Write a Python program to create a function that takes a string as input and returns a new string with all the words capitalized."
   ]
  },
  {
   "cell_type": "code",
   "execution_count": 178,
   "id": "2385566a",
   "metadata": {},
   "outputs": [
    {
     "name": "stdout",
     "output_type": "stream",
     "text": [
      "Enter the string: yash singh rathore\n"
     ]
    },
    {
     "data": {
      "text/plain": [
       "'YASH SINGH RATHORE'"
      ]
     },
     "execution_count": 178,
     "metadata": {},
     "output_type": "execute_result"
    }
   ],
   "source": [
    "def capit_word():\n",
    "    #user input separated by space\n",
    "    inp=input('Enter the string: ')\n",
    "    \n",
    "    return inp.upper()\n",
    "\n",
    "capit_word()"
   ]
  },
  {
   "cell_type": "markdown",
   "id": "3984407e",
   "metadata": {},
   "source": [
    "### 18) Write a Python program to create a function that takes a list of numbers as input and returns a new list with all the numbers sorted in ascending order."
   ]
  },
  {
   "cell_type": "code",
   "execution_count": 180,
   "id": "a4fbc410",
   "metadata": {},
   "outputs": [
    {
     "name": "stdout",
     "output_type": "stream",
     "text": [
      "Enter the numbers with space between : 12 23 546 678 98 43 21\n",
      "Number sorted in ascending order:  [12, 21, 23, 43, 98, 546, 678]\n"
     ]
    }
   ],
   "source": [
    "def sort_asc():\n",
    "    # Get the user input\n",
    "    input_string=input('Enter the numbers with space between : ')\n",
    "    # Checking the space is given in between number's or not\n",
    "    if ' ' in input_string:\n",
    "         input_string=input_string\n",
    "    else:\n",
    "         input_string=' '.join(input_string)\n",
    "    # making list of integer\n",
    "    li=[int(num) for num in input_string.split()]\n",
    "    \n",
    "    return print('Number sorted in ascending order: ',sorted(li))\n",
    "\n",
    "sort_asc()"
   ]
  },
  {
   "cell_type": "markdown",
   "id": "7a6d7af5",
   "metadata": {},
   "source": [
    "### 19) Write a Python program to create a function that takes a list of numbers as input and returns a new list with all the numbers sorted in descending order."
   ]
  },
  {
   "cell_type": "code",
   "execution_count": 184,
   "id": "243410dc",
   "metadata": {},
   "outputs": [
    {
     "name": "stdout",
     "output_type": "stream",
     "text": [
      "Enter the numbers with space between : 12 23 546 678 98 43 21\n",
      "Number sorted in descending order:  [678, 546, 98, 43, 23, 21, 12]\n"
     ]
    }
   ],
   "source": [
    "def sort_asc():\n",
    "    # Get the user input\n",
    "    input_string=input('Enter the numbers with space between : ')\n",
    "    # Checking the space is given in between number's or not\n",
    "    if ' ' in input_string:\n",
    "         input_string=input_string\n",
    "    else:\n",
    "         input_string=' '.join(input_string)\n",
    "    # making list of integer\n",
    "    li=[int(num) for num in input_string.split()]\n",
    "    \n",
    "    return print('Number sorted in descending order: ',sorted(li,reverse=True))\n",
    "\n",
    "sort_asc()"
   ]
  },
  {
   "cell_type": "markdown",
   "id": "53c37e40",
   "metadata": {},
   "source": [
    "### 20) Write a Python program to create a function that takes a string as input and returns a new string with all the vowels replaced by asterisks."
   ]
  },
  {
   "cell_type": "code",
   "execution_count": 183,
   "id": "bc14088e",
   "metadata": {},
   "outputs": [
    {
     "name": "stdout",
     "output_type": "stream",
     "text": [
      "Enter the string: abchefihgouqwac\n",
      "The vowels in string is replaced by aestrisks:  *bch*f*hg**qw*c\n"
     ]
    }
   ],
   "source": [
    "import re\n",
    "def vowel_rem():\n",
    "    inp=input('Enter the string: ')\n",
    "    \n",
    "    vowel_re=re.sub('[a,e,i,o,u]','*',inp)\n",
    "    \n",
    "    print('The vowels in string is replaced by aestrisks: ',vowel_re)\n",
    "\n",
    "vowel_rem()"
   ]
  },
  {
   "cell_type": "markdown",
   "id": "704994ea",
   "metadata": {},
   "source": [
    "### 21) Write a Python program to create a function that takes a list of numbers as input and returns a new list with all the numbers squared."
   ]
  },
  {
   "cell_type": "code",
   "execution_count": 194,
   "id": "bbf3f633",
   "metadata": {},
   "outputs": [
    {
     "name": "stdout",
     "output_type": "stream",
     "text": [
      "Enter the numbers with space between : 1232432546576\n",
      "Square of Numbers in list:  [1, 4, 9, 4, 16, 9, 4, 25, 16, 36, 25, 49, 36]\n"
     ]
    }
   ],
   "source": [
    "def squ_no():\n",
    "    # Get the user input\n",
    "    input_string=input('Enter the numbers with space between : ')\n",
    "    # Checking the space is given in between number's or not\n",
    "    if ' ' in input_string:\n",
    "         input_string=input_string\n",
    "    else:\n",
    "         input_string=' '.join(input_string)\n",
    "    # making list of integer\n",
    "    li=[int(num) for num in input_string.split()]\n",
    "    # returing square of numbers in list through lambda function\n",
    "    return print('Square of Numbers in list: ',list(map(lambda x:x**2,li)))\n",
    "\n",
    "squ_no()"
   ]
  },
  {
   "cell_type": "markdown",
   "id": "8b03c21b",
   "metadata": {},
   "source": [
    "### 22) Write a Python program to create a function that takes a string as input and returns a new string with all the characters shuffled, example input is “Happy” then output can be “Apply”"
   ]
  },
  {
   "cell_type": "code",
   "execution_count": 212,
   "id": "ddb42d54",
   "metadata": {},
   "outputs": [
    {
     "name": "stdout",
     "output_type": "stream",
     "text": [
      "Enter the string: Happy\n",
      "The string is shuffled: Papyh\n"
     ]
    }
   ],
   "source": [
    "import random\n",
    "def shuffle_str():\n",
    "    \n",
    "    inp=input('Enter the string: ')\n",
    "    char=list(inp)\n",
    "    random.shuffle(char)\n",
    "\n",
    "    return print('The string is shuffled:',\"\".join(char).capitalize())\n",
    "\n",
    "shuffle_str()"
   ]
  },
  {
   "cell_type": "markdown",
   "id": "86378a31",
   "metadata": {},
   "source": [
    "### 23) Write a Python program to create a function that takes a list of integers as input and returns the sum of all the even numbers in the list."
   ]
  },
  {
   "cell_type": "code",
   "execution_count": 215,
   "id": "156944e2",
   "metadata": {},
   "outputs": [
    {
     "name": "stdout",
     "output_type": "stream",
     "text": [
      "Enter the number with space:123516451378438413797\n",
      "List of integers as input:  [1, 2, 3, 5, 1, 6, 4, 5, 1, 3, 7, 8, 4, 3, 8, 4, 1, 3, 7, 9, 7]\n",
      "Sum of all the even numbers in list:  36\n"
     ]
    }
   ],
   "source": [
    "def sum_even():\n",
    "    # Get the user input\n",
    "    inp=input('Enter the number with space:')\n",
    "    inp_split=inp.split()\n",
    "    # Checking the space is given in between number's or not\n",
    "    if ' ' in inp_split:\n",
    "        inp_split=inp_split\n",
    "        \n",
    "    else:\n",
    "        inp_split=' '.join(inp_split)\n",
    "    li=[int(num) for num in inp_split]\n",
    "    print('List of integers as input: ',li)\n",
    "    sum=0\n",
    "    for num in li:\n",
    "        if num%2==0:\n",
    "            sum+=num\n",
    "    return print('Sum of all the even numbers in list: ',sum)\n",
    "            \n",
    "sum_even()"
   ]
  },
  {
   "cell_type": "markdown",
   "id": "6bd6b313",
   "metadata": {},
   "source": [
    "### 24) Write a Python program to create a function that takes a list of integers as input and returns the sum of all the odd numbers in the list."
   ]
  },
  {
   "cell_type": "code",
   "execution_count": 217,
   "id": "690a18f9",
   "metadata": {},
   "outputs": [
    {
     "name": "stdout",
     "output_type": "stream",
     "text": [
      "Enter the number with space:445465463523424\n",
      "List of integers as input:  [4, 4, 5, 4, 6, 5, 4, 6, 3, 5, 2, 3, 4, 2, 4]\n",
      "Sum of all the even numbers in list:  21\n"
     ]
    }
   ],
   "source": [
    "def sum_odd():\n",
    "    # Get the user input\n",
    "    inp=input('Enter the number with space:')\n",
    "    inp_split=inp.split()\n",
    "    # Checking the space is given in between number's or not\n",
    "    if ' ' in inp_split:\n",
    "        inp_split=inp_split\n",
    "        \n",
    "    else:\n",
    "        inp_split=' '.join(inp_split)\n",
    "    li=[int(num) for num in inp_split]\n",
    "    print('List of integers as input: ',li)\n",
    "    sum=0\n",
    "    for num in li:\n",
    "        if num%2!=0:\n",
    "            sum+=num\n",
    "    return print('Sum of all the even numbers in list: ',sum)\n",
    "            \n",
    "sum_odd()"
   ]
  },
  {
   "cell_type": "markdown",
   "id": "6e176310",
   "metadata": {},
   "source": [
    "### 25) Write a Python program to create a function that takes a list of integers as input and returns a new list with all the prime numbers in the input list."
   ]
  },
  {
   "cell_type": "code",
   "execution_count": 222,
   "id": "2ca741f4",
   "metadata": {},
   "outputs": [
    {
     "name": "stdout",
     "output_type": "stream",
     "text": [
      "Enter the number with space:1435292758913813\n",
      "List of integers as input:  [1, 4, 3, 5, 2, 9, 2, 7, 5, 8, 9, 1, 3, 8, 1, 3]\n",
      "List of Prime numbers from the intial list:  [3, 5, 2, 2, 7, 5, 3, 3]\n"
     ]
    }
   ],
   "source": [
    "def prime_no():\n",
    "    # Get the user input\n",
    "    inp=input('Enter the number with space:')\n",
    "    inp_split=inp.split()\n",
    "    # Checking the space is given in between number's or not\n",
    "    if ' ' in inp_split:\n",
    "        inp_split=inp_split\n",
    "        \n",
    "    else:\n",
    "        inp_split=' '.join(inp_split)\n",
    "    li=[int(num) for num in inp_split]\n",
    "    print('List of integers as input: ',li)\n",
    "    prime=[]\n",
    "    for num in li:\n",
    "        if num>1:\n",
    "            for j in range(2,num):\n",
    "                if num%j==0:\n",
    "                    break\n",
    "            else:\n",
    "                prime.append(num)\n",
    "    return print('List of Prime numbers from the intial list: ',prime)\n",
    "            \n",
    "prime_no()"
   ]
  },
  {
   "cell_type": "markdown",
   "id": "af32ff2c",
   "metadata": {},
   "source": [
    "### 26) Write a Python program to create a function that takes a list of integers as input and returns a new list with all the even numbers removed."
   ]
  },
  {
   "cell_type": "code",
   "execution_count": 225,
   "id": "8dcc1c61",
   "metadata": {},
   "outputs": [
    {
     "name": "stdout",
     "output_type": "stream",
     "text": [
      "Enter the number with space:218762721744242194\n",
      "List of integers as input:  [2, 1, 8, 7, 6, 2, 7, 2, 1, 7, 4, 4, 2, 4, 2, 1, 9, 4]\n",
      "List of integers afer removal of even numbers:  [1, 7, 7, 1, 7, 1, 9]\n"
     ]
    }
   ],
   "source": [
    "def even_rem():\n",
    "    # Get the user input\n",
    "    inp=input('Enter the number with space:')\n",
    "    inp_split=inp.split()\n",
    "    # Checking the space is given in between number's or not\n",
    "    if ' ' in inp_split:\n",
    "        inp_split=inp_split\n",
    "        \n",
    "    else:\n",
    "        inp_split=' '.join(inp_split)\n",
    "    li=[int(num) for num in inp_split]\n",
    "    print('List of integers as input: ',li)\n",
    "    even_rem=[]\n",
    "    for num in li:\n",
    "        if num%2!=0:\n",
    "            even_rem.append(num)\n",
    "    return print('List of integers afer removal of even numbers: ',even_rem)\n",
    "            \n",
    "even_rem()"
   ]
  },
  {
   "cell_type": "markdown",
   "id": "c0073abe",
   "metadata": {},
   "source": [
    "### 27) Write a Python program to create a function that takes a list of integers as input and returns a new list with all the odd numbers removed."
   ]
  },
  {
   "cell_type": "code",
   "execution_count": 229,
   "id": "8e6639c3",
   "metadata": {},
   "outputs": [
    {
     "name": "stdout",
     "output_type": "stream",
     "text": [
      "Enter the number with space:328732883582912\n",
      "List of integers as input:  [3, 2, 8, 7, 3, 2, 8, 8, 3, 5, 8, 2, 9, 1, 2]\n",
      "List of integers afer removal of odd numbers:  [2, 8, 2, 8, 8, 8, 2, 2]\n"
     ]
    }
   ],
   "source": [
    "def odd_rem():\n",
    "    # Get the user input\n",
    "    inp=input('Enter the number with space:')\n",
    "    inp_split=inp.split()\n",
    "    # Checking the space is given in between number's or not\n",
    "    if ' ' in inp_split:\n",
    "        inp_split=inp_split\n",
    "        \n",
    "    else:\n",
    "        inp_split=' '.join(inp_split)\n",
    "    li=[int(num) for num in inp_split]\n",
    "    print('List of integers as input: ',li)\n",
    "    odd_rem=[]\n",
    "    for num in li:\n",
    "        if num%2==0:\n",
    "            odd_rem.append(num)\n",
    "    return print('List of integers afer removal of odd numbers: ',odd_rem)\n",
    "            \n",
    "odd_rem()"
   ]
  },
  {
   "cell_type": "markdown",
   "id": "84ae891b",
   "metadata": {},
   "source": [
    "### 28) Write a Python program to create a function that takes a list of integers as input and returns a new list with all the numbers doubled."
   ]
  },
  {
   "cell_type": "code",
   "execution_count": 230,
   "id": "b4391cb2",
   "metadata": {},
   "outputs": [
    {
     "name": "stdout",
     "output_type": "stream",
     "text": [
      "Enter the numbers with space between : 114141343155\n",
      "Square of Numbers in list:  [2, 2, 8, 2, 8, 2, 6, 8, 6, 2, 10, 10]\n"
     ]
    }
   ],
   "source": [
    "def double_no():\n",
    "    # Get the user input\n",
    "    input_string=input('Enter the numbers with space between : ')\n",
    "    # Checking the space is given in between number's or not\n",
    "    if ' ' in input_string:\n",
    "         input_string=input_string\n",
    "    else:\n",
    "         input_string=' '.join(input_string)\n",
    "    # making list of integer\n",
    "    li=[int(num) for num in input_string.split()]\n",
    "    # returing square of numbers in list through lambda function\n",
    "    return print('Square of Numbers in list: ',list(map(lambda x:x*2,li)))\n",
    "\n",
    "double_no()"
   ]
  },
  {
   "cell_type": "markdown",
   "id": "501a7776",
   "metadata": {},
   "source": [
    "### 29) Write a Python program to create a function that takes a list of integers as input and returns a new list with all the numbers halved."
   ]
  },
  {
   "cell_type": "code",
   "execution_count": 232,
   "id": "a29a0ea6",
   "metadata": {},
   "outputs": [
    {
     "name": "stdout",
     "output_type": "stream",
     "text": [
      "Enter the numbers with space between : 1242141414\n",
      "Square of Numbers in list:  [0.5, 1.0, 2.0, 1.0, 0.5, 2.0, 0.5, 2.0, 0.5, 2.0]\n"
     ]
    }
   ],
   "source": [
    "def half_no():\n",
    "    # Get the user input\n",
    "    input_string=input('Enter the numbers with space between : ')\n",
    "    # Checking the space is given in between number's or not\n",
    "    if ' ' in input_string:\n",
    "         input_string=input_string\n",
    "    else:\n",
    "         input_string=' '.join(input_string)\n",
    "    # making list of integer\n",
    "    li=[int(num) for num in input_string.split()]\n",
    "    # returing square of numbers in list through lambda function\n",
    "    return print('Square of Numbers in list: ',list(map(lambda x:x/2,li)))\n",
    "\n",
    "half_no()"
   ]
  },
  {
   "cell_type": "code",
   "execution_count": null,
   "id": "bf6aa6a9",
   "metadata": {},
   "outputs": [],
   "source": []
  }
 ],
 "metadata": {
  "kernelspec": {
   "display_name": "Python 3 (ipykernel)",
   "language": "python",
   "name": "python3"
  },
  "language_info": {
   "codemirror_mode": {
    "name": "ipython",
    "version": 3
   },
   "file_extension": ".py",
   "mimetype": "text/x-python",
   "name": "python",
   "nbconvert_exporter": "python",
   "pygments_lexer": "ipython3",
   "version": "3.9.12"
  }
 },
 "nbformat": 4,
 "nbformat_minor": 5
}
