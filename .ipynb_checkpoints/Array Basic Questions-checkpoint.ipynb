{
 "cells": [
  {
   "cell_type": "markdown",
   "id": "260335cd",
   "metadata": {},
   "source": [
    "### Array: Collection of element with same data type"
   ]
  },
  {
   "cell_type": "code",
   "execution_count": 2,
   "id": "f9bff1c7",
   "metadata": {},
   "outputs": [],
   "source": [
    "import numpy as np\n",
    "import array as ar"
   ]
  },
  {
   "cell_type": "markdown",
   "id": "d169133e",
   "metadata": {},
   "source": [
    "* **Signed Integer (#i):** Represents positive and negative whole numbers in an array, like temperatures or scores etc. [-10, 20, 30].\n",
    "* **Unsigned Integer (#I):** Stores non-negative whole numbers in an array, such as counts or indices [0, 1, 2, 3].\n",
    "* **Float (#f):** Holds decimal numbers in an array, commonly used for precise measurements [1.5, 3.14, 2.718].\n",
    "* **Unicode Character (#u):** Represents textual data in an array, typically used for storing strings of text [\"Hello\", \"World\"].\n",
    "* **'d':** The type code 'd' specifies that the array will contain double-precision floating-point numbers."
   ]
  },
  {
   "cell_type": "markdown",
   "id": "1c8d024c",
   "metadata": {},
   "source": [
    "| Type Code | C Type                | Python Type          | Minimum Size (Bytes) |\n",
    "|-----------|-----------------------|----------------------|----------------------|\n",
    "|    'b'    | signed char           | int                  | 1                    |\n",
    "|    'B'    | unsigned char         | int                  | 1                    |\n",
    "|    'u'    | Py_UNICODE            | Unicode character    | 2                    |\n",
    "|    'h'    | signed short          | int                  | 2                    |\n",
    "|    'H'    | unsigned short        | int                  | 2                    |\n",
    "|    'i'    | signed int            | int                  | 2                    |\n",
    "|    'I'    | unsigned int          | int                  | 2                    |\n",
    "|    'l'    | signed long           | int                  | 4                    |\n",
    "|    'L'    | unsigned long         | int                  | 4                    |\n",
    "|    'q'    | signed long long      | int                  | 8                    |\n",
    "|    'Q'    | unsigned long long    | int                  | 8                    |\n",
    "|    'f'    | float                 | float                | 4                    |\n",
    "|    'd'    | double                | float                | 8                    |\n"
   ]
  },
  {
   "cell_type": "code",
   "execution_count": 2,
   "id": "27ac3ef7",
   "metadata": {},
   "outputs": [
    {
     "name": "stdout",
     "output_type": "stream",
     "text": [
      "[1 2 3 4 5 6] \n",
      " array('i', [1, 2, 3, 4, 5, 6])\n"
     ]
    }
   ],
   "source": [
    "num=[1,2,3,4,5,6]\n",
    "arr1=np.array(num)\n",
    "arr=ar.array(\"i\",num) \n",
    "print(arr1,'\\n',arr)"
   ]
  },
  {
   "cell_type": "code",
   "execution_count": 3,
   "id": "9b817ac4",
   "metadata": {},
   "outputs": [
    {
     "name": "stdout",
     "output_type": "stream",
     "text": [
      "<class 'numpy.ndarray'> <class 'array.array'>\n"
     ]
    }
   ],
   "source": [
    "print(type(arr1),type(arr))"
   ]
  },
  {
   "cell_type": "code",
   "execution_count": 4,
   "id": "16a5fe54",
   "metadata": {},
   "outputs": [
    {
     "name": "stdout",
     "output_type": "stream",
     "text": [
      "[1 2 3 4] \n",
      "Dim: 1\n",
      "[[1 2 3]\n",
      " [4 5 6]\n",
      " [7 8 9]] \n",
      "Dim: 2\n"
     ]
    }
   ],
   "source": [
    "one_d=np.array([1,2,3,4])\n",
    "two_d=np.array([[1,2,3],[4,5,6],[7,8,9]])\n",
    "print(one_d,\"\\nDim:\",one_d.ndim)\n",
    "print(two_d,\"\\nDim:\",two_d.ndim)\n"
   ]
  },
  {
   "cell_type": "code",
   "execution_count": 5,
   "id": "561e2c5e",
   "metadata": {},
   "outputs": [
    {
     "name": "stdout",
     "output_type": "stream",
     "text": [
      "3\n",
      "9\n",
      "9\n"
     ]
    }
   ],
   "source": [
    "print(two_d[0,2])\n",
    "print(two_d[2,-1])\n",
    "print(two_d[-1,-1])"
   ]
  },
  {
   "cell_type": "code",
   "execution_count": 6,
   "id": "7fde1c01",
   "metadata": {},
   "outputs": [
    {
     "name": "stdout",
     "output_type": "stream",
     "text": [
      "Every 3rd element: [ 1  4  7 10] \n",
      "From the 5th element: [ 5  6  7  8  9 10] \n",
      "Last 3 element: [ 8  9 10] \n",
      "Till 5th element: [1 2 3 4 5]\n"
     ]
    }
   ],
   "source": [
    "o_d=np.array([1,2,3,4,5,6,7,8,9,10])\n",
    "print(\"Every 3rd element:\",o_d[::3],\"\\nFrom the 5th element:\",o_d[4:],\n",
    "      \"\\nLast 3 element:\",o_d[-3:],\"\\nTill 5th element:\",o_d[:5])"
   ]
  },
  {
   "cell_type": "code",
   "execution_count": 7,
   "id": "437df5a6",
   "metadata": {},
   "outputs": [
    {
     "name": "stdout",
     "output_type": "stream",
     "text": [
      "[[1 2 3]\n",
      " [4 5 6]\n",
      " [7 8 9]] \n",
      " \n",
      " Whole Matrix \":\" and Element upto 0th column:  \n",
      " [[1]\n",
      " [4]\n",
      " [7]] \n",
      " Matrix starting from 1st row \"1:\" and Element upto 1st column:  \n",
      " [[4 5]\n",
      " [7 8]] \n",
      " Whole Matrix \":\" and Element from 2nd column to 3rd column excluding 3rd column:  \n",
      " [[3]\n",
      " [6]\n",
      " [9]]\n"
     ]
    }
   ],
   "source": [
    "t_d=np.array([[1,2,3],[4,5,6],[7,8,9]])\n",
    "print(t_d,'\\n','\\n Whole Matrix \":\" and Element upto 0th column: ','\\n',t_d[:,0:1],'\\n Matrix starting from 1st row \"1:\" and Element upto 1st column: ','\\n',t_d[1:,:2],'\\n Whole Matrix \":\" and Element from 2nd column to 3rd column excluding 3rd column: ','\\n',t_d[:,2:3])"
   ]
  },
  {
   "cell_type": "code",
   "execution_count": 8,
   "id": "632e2662",
   "metadata": {},
   "outputs": [
    {
     "name": "stdout",
     "output_type": "stream",
     "text": [
      "1 2 3 4 5 6 7 8 9 10 "
     ]
    }
   ],
   "source": [
    "# Printing each element of the 1-D array\n",
    "for i in o_d:\n",
    "    print(i,end=\" \")"
   ]
  },
  {
   "cell_type": "code",
   "execution_count": 9,
   "id": "4bbe3c99",
   "metadata": {},
   "outputs": [
    {
     "name": "stdout",
     "output_type": "stream",
     "text": [
      "[1 2 3]\n",
      "[4 5 6]\n",
      "[7 8 9]\n"
     ]
    }
   ],
   "source": [
    "# Printing 2-D matrix\n",
    "for i in t_d:\n",
    "    print(i)"
   ]
  },
  {
   "cell_type": "code",
   "execution_count": 10,
   "id": "a90bde40",
   "metadata": {},
   "outputs": [
    {
     "name": "stdout",
     "output_type": "stream",
     "text": [
      "1 2 3 4 5 6 7 8 9 "
     ]
    }
   ],
   "source": [
    "# Printing each element of the 2-D array row-wise\n",
    "for row in t_d:\n",
    "    for i in row:\n",
    "        print(i,end=\" \")"
   ]
  },
  {
   "cell_type": "code",
   "execution_count": 11,
   "id": "1179d90d",
   "metadata": {},
   "outputs": [
    {
     "name": "stdout",
     "output_type": "stream",
     "text": [
      "[ 1  2  3  4  5  6  7  8  9 10]\n"
     ]
    },
    {
     "data": {
      "text/plain": [
       "array([ 1,  2,  3,  4,  5,  6,  7,  8,  9, 10, 11, 12, 13, 14, 15])"
      ]
     },
     "execution_count": 11,
     "metadata": {},
     "output_type": "execute_result"
    }
   ],
   "source": [
    "# Concatenating two arrays\n",
    "print(o_d)\n",
    "new_arr=np.array([11,12,13,14,15])\n",
    "np.concatenate((o_d,new_arr))"
   ]
  },
  {
   "cell_type": "code",
   "execution_count": 12,
   "id": "6c936668",
   "metadata": {},
   "outputs": [
    {
     "name": "stdout",
     "output_type": "stream",
     "text": [
      "[ 1  2  3  4  5  6  7  8  9 10 11 12 13 14 15]\n"
     ]
    }
   ],
   "source": [
    "# hstack : example of horizontal stacking of array\n",
    "a=np.hstack((o_d,new_arr))\n",
    "print(a)"
   ]
  },
  {
   "cell_type": "code",
   "execution_count": 13,
   "id": "7f4f9f84",
   "metadata": {},
   "outputs": [
    {
     "name": "stdout",
     "output_type": "stream",
     "text": [
      "[1 2 3 4 5]\n",
      "Shape array:  (5,)\n",
      "[[ 1  2  3  4  5]\n",
      " [11 12 13 14 15]]\n",
      "Shape array after vertical stacking:  (2, 5)\n"
     ]
    }
   ],
   "source": [
    "# vstack :example of vertical stacking of array resulting in 1-D to 2-D array\n",
    "oe_d=np.array([1,2,3,4,5])\n",
    "print(oe_d)\n",
    "print('Shape array: ',oe_d.shape)\n",
    "b=np.vstack((oe_d,new_arr))  #when columns are same we can do vstack\n",
    "print(b)\n",
    "print('Shape array after vertical stacking: ',b.shape)"
   ]
  },
  {
   "cell_type": "code",
   "execution_count": 14,
   "id": "e314ceec",
   "metadata": {},
   "outputs": [
    {
     "name": "stdout",
     "output_type": "stream",
     "text": [
      "[ 1  2  3  4  5  6  7  8  9 10]\n",
      "Showing numbers from array which are divisble by 3:  [3 6 9]\n"
     ]
    }
   ],
   "source": [
    "# use of np.where function\n",
    "print(o_d)\n",
    "print('Showing numbers from array which are divisble by 3: ',o_d[np.where(o_d%3==0)])"
   ]
  },
  {
   "cell_type": "code",
   "execution_count": 15,
   "id": "03c3fc8e",
   "metadata": {},
   "outputs": [
    {
     "name": "stdout",
     "output_type": "stream",
     "text": [
      "[ 1  2  3  4  5  6  7  8  9 10]\n",
      "Reversing the given array:  [10  9  8  7  6  5  4  3  2  1]\n"
     ]
    }
   ],
   "source": [
    "# Reversing the given array\n",
    "print(o_d)\n",
    "print('Reversing the given array: ',o_d[::-1])"
   ]
  },
  {
   "cell_type": "code",
   "execution_count": 16,
   "id": "cc1d0dda",
   "metadata": {},
   "outputs": [
    {
     "data": {
      "text/plain": [
       "array([ 1,  2,  3,  4,  6,  7,  8,  9, 10])"
      ]
     },
     "execution_count": 16,
     "metadata": {},
     "output_type": "execute_result"
    }
   ],
   "source": [
    "# Will delete the element at index 4 i.e. 5 here as indexing starts from 0 in array\n",
    "np.delete(o_d,4)"
   ]
  },
  {
   "cell_type": "code",
   "execution_count": 17,
   "id": "0d26592b",
   "metadata": {},
   "outputs": [
    {
     "name": "stdout",
     "output_type": "stream",
     "text": [
      "2\n",
      "(3, 3)\n"
     ]
    }
   ],
   "source": [
    "print(t_d.ndim)\n",
    "print(t_d.shape)"
   ]
  },
  {
   "cell_type": "markdown",
   "id": "a6a5d2bc",
   "metadata": {},
   "source": [
    "Here's a comparison of `.ndim` and `.shape` in tabular form:\n",
    "\n",
    "| Attribute | Purpose                                             | Example Usage                                    |\n",
    "|-----------|-----------------------------------------------------|--------------------------------------------------|\n",
    "| `.ndim`   | Returns the number of dimensions of the array       | `arr.ndim`<br>(1 for a 1D array, 2 for 2D, etc.) |\n",
    "| `.shape`  | Returns a tuple representing the size of each dimension | `arr.shape`<br>(e.g., `(3,)` for 1D, `(2, 3)` for 2D) |\n",
    "\n",
    "These attributes are both useful for understanding the structure and dimensionality of NumPy arrays.\n"
   ]
  },
  {
   "cell_type": "code",
   "execution_count": 18,
   "id": "a5d2d879",
   "metadata": {},
   "outputs": [
    {
     "name": "stdout",
     "output_type": "stream",
     "text": [
      "[ 1  2  3  4  5  6  7  8  9 10]\n"
     ]
    },
    {
     "data": {
      "text/plain": [
       "10"
      ]
     },
     "execution_count": 18,
     "metadata": {},
     "output_type": "execute_result"
    }
   ],
   "source": [
    "#Iterates over each element in 1-D array and returns last stored number i.e. 10\n",
    "lent=0\n",
    "print(o_d)\n",
    "for i in range(len(o_d)):\n",
    "#     print(o_d[i],end='  ')\n",
    "    lent+=1\n",
    "#     print(lent)\n",
    "lent"
   ]
  },
  {
   "cell_type": "code",
   "execution_count": 19,
   "id": "33fcef0e",
   "metadata": {},
   "outputs": [
    {
     "data": {
      "text/plain": [
       "[array('u', 'yash'),\n",
       " array('u', 'jai'),\n",
       " array('u', 'yogesh'),\n",
       " array('u', 'rudra')]"
      ]
     },
     "execution_count": 19,
     "metadata": {},
     "output_type": "execute_result"
    }
   ],
   "source": [
    "st=[ar.array(\"u\",s) for s in [\"yash\",\"jai\",\"yogesh\",\"rudra\"]]\n",
    "st"
   ]
  },
  {
   "cell_type": "code",
   "execution_count": 20,
   "id": "7b0bc9f8",
   "metadata": {},
   "outputs": [
    {
     "name": "stdout",
     "output_type": "stream",
     "text": [
      "<class 'numpy.ndarray'>\n",
      "['yash' 'jai' 'yogesh' 'rudra'] \n",
      " ['jai' 'rudra' 'yash' 'yogesh']\n"
     ]
    }
   ],
   "source": [
    "st=np.array([\"yash\",\"jai\",\"yogesh\",\"rudra\"])\n",
    "s=np.sort(st)\n",
    "#Sorted the numpy array in alphabetical order\n",
    "print(type(s))\n",
    "print(st,\"\\n\",s)"
   ]
  },
  {
   "cell_type": "code",
   "execution_count": 21,
   "id": "07afef2d",
   "metadata": {},
   "outputs": [
    {
     "name": "stdout",
     "output_type": "stream",
     "text": [
      "<class 'numpy.ndarray'>\n",
      "[1 2 3 5 1 2 5 6 2] \n",
      " [1 1 2 2 2 3 5 5 6]\n"
     ]
    }
   ],
   "source": [
    "d=np.array([1,2,3,5,1,2,5,6,2])\n",
    "q=np.sort(d)\n",
    "#Sorted the numpy array in numerical order\n",
    "print(type(q))\n",
    "print(d,\"\\n\",q)"
   ]
  },
  {
   "cell_type": "code",
   "execution_count": 22,
   "id": "3c83a226",
   "metadata": {},
   "outputs": [
    {
     "name": "stdout",
     "output_type": "stream",
     "text": [
      "[[11  2  3]\n",
      " [17  8  9]\n",
      " [ 4 15  6]] \n",
      "It does sorting row-wise:  \n",
      " [[ 2  3 11]\n",
      " [ 8  9 17]\n",
      " [ 4  6 15]]\n"
     ]
    }
   ],
   "source": [
    "to_d=np.array([[11,2,3],[17,8,9],[4,15,6]])\n",
    "print(to_d,\"\\nIt does sorting row-wise: \",'\\n',np.sort(to_d))"
   ]
  },
  {
   "cell_type": "code",
   "execution_count": 23,
   "id": "899718d6",
   "metadata": {},
   "outputs": [
    {
     "name": "stdout",
     "output_type": "stream",
     "text": [
      "[ 1  2  3  4  5  6  7  8  9 10]\n",
      "Even number in numpy array:  [ 2  4  6  8 10]\n",
      "Odd number in numpy array:  [1 3 5 7 9]\n"
     ]
    }
   ],
   "source": [
    "print(o_d)\n",
    "print('Even number in numpy array: ',o_d[np.where(o_d%2==0)])\n",
    "print('Odd number in numpy array: ',o_d[np.where(o_d%2!=0)])"
   ]
  },
  {
   "cell_type": "code",
   "execution_count": 24,
   "id": "cca15500",
   "metadata": {},
   "outputs": [
    {
     "name": "stdout",
     "output_type": "stream",
     "text": [
      "[[1 2 3]\n",
      " [4 5 6]\n",
      " [7 8 9]]\n",
      "\n",
      "[[11  2  3]\n",
      " [17  8  9]\n",
      " [ 4 15  6]]\n",
      "\n",
      "[[12  4  6]\n",
      " [21 13 15]\n",
      " [11 23 15]]\n"
     ]
    }
   ],
   "source": [
    "print(two_d)\n",
    "print()\n",
    "print(to_d)\n",
    "t=two_d+to_d\n",
    "print()\n",
    "print(t)"
   ]
  },
  {
   "cell_type": "code",
   "execution_count": 25,
   "id": "690af34d",
   "metadata": {},
   "outputs": [
    {
     "name": "stdout",
     "output_type": "stream",
     "text": [
      "[ 1  2  3  4  5  6  7  8  9 10]\n"
     ]
    },
    {
     "data": {
      "text/plain": [
       "10"
      ]
     },
     "execution_count": 25,
     "metadata": {},
     "output_type": "execute_result"
    }
   ],
   "source": [
    "print(o_d)\n",
    "o_d.max()"
   ]
  },
  {
   "cell_type": "code",
   "execution_count": 26,
   "id": "4aad912c",
   "metadata": {},
   "outputs": [
    {
     "data": {
      "text/plain": [
       "array([ 1,  4,  9, 16, 25])"
      ]
     },
     "execution_count": 26,
     "metadata": {},
     "output_type": "execute_result"
    }
   ],
   "source": [
    "q=np.array([1,2,3,4,5])\n",
    "y=(lambda x:x*x)\n",
    "s=y(q)\n",
    "s"
   ]
  },
  {
   "cell_type": "code",
   "execution_count": 27,
   "id": "144947e1",
   "metadata": {},
   "outputs": [
    {
     "data": {
      "text/plain": [
       "array([ 1,  4,  9, 16, 25])"
      ]
     },
     "execution_count": 27,
     "metadata": {},
     "output_type": "execute_result"
    }
   ],
   "source": [
    "np.array(list(map(lambda x:x*x,q)))"
   ]
  },
  {
   "cell_type": "code",
   "execution_count": 28,
   "id": "fd0cc2ba",
   "metadata": {},
   "outputs": [
    {
     "data": {
      "text/plain": [
       "array([ 1,  4,  9, 16, 25])"
      ]
     },
     "execution_count": 28,
     "metadata": {},
     "output_type": "execute_result"
    }
   ],
   "source": [
    "np.vectorize(lambda x:x*x)(q)"
   ]
  },
  {
   "cell_type": "markdown",
   "id": "cba9310d",
   "metadata": {},
   "source": [
    "#### Insert & Append"
   ]
  },
  {
   "cell_type": "code",
   "execution_count": 38,
   "id": "540f9799",
   "metadata": {},
   "outputs": [
    {
     "name": "stdout",
     "output_type": "stream",
     "text": [
      "Array before insertion :  1 2 3 \n",
      "Array after insertion :  1 4 2 3 \n",
      "Array before insertion :  2.5 3.2 3.3 \n",
      "Array after insertion :  2.5 3.2 3.3 4.4 \n"
     ]
    }
   ],
   "source": [
    "a = ar.array('i', [1, 2, 3])\n",
    "print(\"Array before insertion : \", end=\" \")\n",
    "for i in range(0, 3):\n",
    "    print(a[i], end=\" \")\n",
    "print()\n",
    "a.insert(1, 4)\n",
    "print(\"Array after insertion : \", end=\" \")\n",
    "for i in (a):\n",
    "    print(i, end=\" \")\n",
    "print()\n",
    "\n",
    "b = ar.array('d', [2.5, 3.2, 3.3])\n",
    "print(\"Array before insertion : \", end=\" \")\n",
    "for i in range(0, 3):\n",
    "    print(b[i], end=\" \")\n",
    "print()\n",
    "b.append(4.4)\n",
    "print(\"Array after insertion : \", end=\" \")\n",
    "for i in (b):\n",
    "    print(i, end=\" \")\n",
    "print()"
   ]
  },
  {
   "cell_type": "markdown",
   "id": "ee0054b7",
   "metadata": {},
   "source": [
    "* append() is also used to add the value mentioned in its arguments at the end of the Python array.\n",
    "* insert() is used to insert one or more data elements into an array. Based on the requirement, a new element can be added at the beginning, end, or any given index of array."
   ]
  },
  {
   "cell_type": "markdown",
   "id": "7ed8fb4f",
   "metadata": {},
   "source": [
    "#### Accessing the Elements from the Array"
   ]
  },
  {
   "cell_type": "code",
   "execution_count": 42,
   "id": "e9001d17",
   "metadata": {},
   "outputs": [
    {
     "name": "stdout",
     "output_type": "stream",
     "text": [
      "Access element is:  1\n",
      "Access element is:  4\n",
      "Access element is:  3.2\n",
      "Access element is:  3.3\n"
     ]
    }
   ],
   "source": [
    "a = ar.array('i', [1, 2, 3, 4, 5, 6])\n",
    "print(\"Access element is: \", a[0])\n",
    "print(\"Access element is: \", a[3])\n",
    "b = ar.array('d', [2.5, 3.2, 3.3])\n",
    "print(\"Access element is: \", b[1])\n",
    "print(\"Access element is: \", b[2])\n"
   ]
  },
  {
   "cell_type": "code",
   "execution_count": 78,
   "id": "2968afaa",
   "metadata": {},
   "outputs": [
    {
     "name": "stdout",
     "output_type": "stream",
     "text": [
      "The new created array is : 1 2 3 1 5 \r\n",
      "The popped element is : 3\n",
      "The array after popping is : 1 2 1 5 \r\n",
      "The popped element is : 5\n",
      "The array after popping last element is :  1 2 1\r\n",
      "The array after removing is : 2 1 "
     ]
    }
   ],
   "source": [
    "arr = ar.array('i', [1, 2, 3, 1, 5])\n",
    "print(\"The new created array is : \", end=\"\")\n",
    "for i in range(len(arr)):\n",
    "    print(arr[i], end=\" \")\n",
    "\n",
    "print(\"\\r\")\n",
    "print(\"The popped element is : \", end=\"\")\n",
    "print(arr.pop(2))  # removes element of the 2nd index\n",
    "print(\"The array after popping is : \", end=\"\")\n",
    "for i in range(len(arr)):\n",
    "    print(arr[i], end=\" \")\n",
    "\n",
    "print('\\r')\n",
    "print(\"The popped element is : \", end=\"\")    \n",
    "print(arr.pop())  # removes  last element\n",
    "print(\"The array after popping last element is : \",*arr, end=\"\")\n",
    "\n",
    "\n",
    "\n",
    "print(\"\\r\")\n",
    "arr.remove(1) # removes 1 from the array which is at 0th index\n",
    "print(\"The array after removing is : \", end=\"\")\n",
    "for i in range(len(arr)):\n",
    "    print(arr[i], end=\" \")\n",
    "    \n",
    "\n"
   ]
  },
  {
   "cell_type": "code",
   "execution_count": 49,
   "id": "7a5a77d0",
   "metadata": {},
   "outputs": [
    {
     "name": "stdout",
     "output_type": "stream",
     "text": [
      "Initial Array: \n",
      "1 2 3 4 5 6 7 8 9 10 \n",
      "Slicing elements in a range 3-8: \n",
      "array('i', [4, 5, 6, 7, 8])\n",
      "\n",
      "Elements sliced from 5th element till the end: \n",
      "array('i', [6, 7, 8, 9, 10])\n",
      "\n",
      "Printing all elements using slice operation: \n",
      "array('i', [1, 2, 3, 4, 5, 6, 7, 8, 9, 10])\n"
     ]
    }
   ],
   "source": [
    "l = [1, 2, 3, 4, 5, 6, 7, 8, 9, 10]\n",
    "\n",
    "a = ar.array('i', l)\n",
    "print(\"Initial Array: \")\n",
    "for i in (a):\n",
    "    print(i, end=\" \")\n",
    "Sliced_array = a[3:8]\n",
    "print(\"\\nSlicing elements in a range 3-8: \")\n",
    "print(Sliced_array)\n",
    "Sliced_array = a[5:]\n",
    "print(\"\\nElements sliced from 5th \"\n",
    "      \"element till the end: \")\n",
    "print(Sliced_array)\n",
    "Sliced_array = a[:]\n",
    "print(\"\\nPrinting all elements using slice operation: \")\n",
    "print(Sliced_array)\n"
   ]
  },
  {
   "cell_type": "code",
   "execution_count": 50,
   "id": "ffd5a682",
   "metadata": {},
   "outputs": [
    {
     "name": "stdout",
     "output_type": "stream",
     "text": [
      "The new created array is : 1 2 3 1 2 5 \r\n",
      "The index of 1st occurrence of 2 is : 1\n",
      "The index of 1st occurrence of 1 is : 0\n"
     ]
    }
   ],
   "source": [
    "arr = ar.array('i', [1, 2, 3, 1, 2, 5])\n",
    "print(\"The new created array is : \", end=\"\")\n",
    "for i in range(0, 6):\n",
    "    print(arr[i], end=\" \")\n",
    "\n",
    "print(\"\\r\")\n",
    "print(\"The index of 1st occurrence of 2 is : \", end=\"\")\n",
    "print(arr.index(2))\n",
    "print(\"The index of 1st occurrence of 1 is : \", end=\"\")\n",
    "print(arr.index(1))\n"
   ]
  },
  {
   "cell_type": "markdown",
   "id": "4b29225b",
   "metadata": {},
   "source": [
    "#### Updating Elements in a Array"
   ]
  },
  {
   "cell_type": "code",
   "execution_count": 51,
   "id": "f2b0f0da",
   "metadata": {},
   "outputs": [
    {
     "name": "stdout",
     "output_type": "stream",
     "text": [
      "Array before updation : 1 2 3 1 2 5 \r\n",
      "Array after updation : 1 2 6 1 2 5 \n",
      "Array after updation : 1 2 6 1 8 5 "
     ]
    }
   ],
   "source": [
    "arr = ar.array('i', [1, 2, 3, 1, 2, 5])\n",
    "print(\"Array before updation : \", end=\"\")\n",
    "for i in range(0, 6):\n",
    "    print(arr[i], end=\" \")\n",
    "\n",
    "print(\"\\r\")\n",
    "arr[2] = 6\n",
    "print(\"Array after updation : \", end=\"\")\n",
    "for i in range(0, 6):\n",
    "    print(arr[i], end=\" \")\n",
    "print()\n",
    "arr[4] = 8\n",
    "print(\"Array after updation : \", end=\"\")\n",
    "for i in range(0, 6):\n",
    "    print(arr[i], end=\" \")\n"
   ]
  },
  {
   "cell_type": "markdown",
   "id": "a654d982",
   "metadata": {},
   "source": [
    "#### Counting Elements in a Array"
   ]
  },
  {
   "cell_type": "code",
   "execution_count": 52,
   "id": "40c26a63",
   "metadata": {},
   "outputs": [
    {
     "name": "stdout",
     "output_type": "stream",
     "text": [
      "Number of occurrences of 2: 3\n"
     ]
    }
   ],
   "source": [
    "my_array = ar.array('i', [1, 2, 3, 4, 2, 5, 2])\n",
    "count = my_array.count(2)\n",
    "print(\"Number of occurrences of 2:\", count)\n"
   ]
  },
  {
   "cell_type": "code",
   "execution_count": 57,
   "id": "ed5889be",
   "metadata": {},
   "outputs": [
    {
     "name": "stdout",
     "output_type": "stream",
     "text": [
      "Original array: 1 2 3 4 5\n",
      "Reversed array: 5 4 3 2 1\n"
     ]
    }
   ],
   "source": [
    "my_array = ar.array('i', [1, 2, 3, 4, 5])\n",
    "print(\"Original array:\", *my_array)\n",
    "my_array.reverse()\n",
    "print(\"Reversed array:\", *my_array)\n"
   ]
  },
  {
   "cell_type": "markdown",
   "id": "130ffb2a",
   "metadata": {},
   "source": [
    "#### The capability of extending an array to include additional elements."
   ]
  },
  {
   "cell_type": "code",
   "execution_count": 59,
   "id": "02cde805",
   "metadata": {},
   "outputs": [
    {
     "name": "stdout",
     "output_type": "stream",
     "text": [
      "The before array extend  :  1 2 3 4 5 \n",
      "\n",
      "The array after extend : 1 2 3 4 5 6 7 8 9 10 \n",
      "1 2 3 4 5 6 7 8 9 10\n"
     ]
    }
   ],
   "source": [
    "a = ar.array('i', [1, 2, 3,4,5])\n",
    "print(\"The before array extend  : \", end =\" \")\n",
    "for i in range (0, 5): \n",
    "  \n",
    "    print (a[i], end =\" \") \n",
    "    \n",
    "print()\n",
    "a.extend([6,7,8,9,10])\n",
    "print(\"\\nThe array after extend :\",end=\" \")\n",
    "\n",
    "for i in range(0,10):  \n",
    "  \n",
    "    print(a[i],end=\" \") \n",
    "    \n",
    "print()"
   ]
  },
  {
   "cell_type": "code",
   "execution_count": 61,
   "id": "8172e7d9",
   "metadata": {},
   "outputs": [
    {
     "name": "stdout",
     "output_type": "stream",
     "text": [
      "The Before extend array is : 1 2 3 4 5 6 \n",
      "\n",
      "The After extend array is : 1 2 3 4 5 6 7 8 9 10 11 12 \n",
      "\n",
      "The before extend array is : 2.1 2.2 2.3 2.4 2.5 2.6 \n",
      "\n",
      "The after extend array is : 2.1 2.2 2.3 2.4 2.5 2.6 2.6 2.7 2.8 2.9 \n"
     ]
    }
   ],
   "source": [
    "a=ar.array('i',[1,2,3,4,5,6])\n",
    "print(\"The Before extend array is :\",end=\" \")\n",
    "for i in range(0,6):\n",
    "  \n",
    "    print(a[i],end=\" \")\n",
    "    \n",
    "print()\n",
    "a.extend([7,8,9,10,11,12])\n",
    "print(\"\\nThe After extend array is :\",end=\" \")\n",
    "\n",
    "for i in range(0,12):\n",
    "  \n",
    "    print(a[i],end=\" \")\n",
    "\n",
    "print()\n",
    "b = ar.array('d', [2.1,2.2,2.3,2.4,2.5,2.6])\n",
    "\n",
    "print(\"\\nThe before extend array is :\",end=\" \")\n",
    "\n",
    "for i in range(0,6):\n",
    "  \n",
    "  print(b[i],end=\" \")\n",
    "print()\n",
    "b.extend([2.6,2.7,2.8,2.9])\n",
    "\n",
    "print(\"\\nThe after extend array is :\",end=\" \")\n",
    "\n",
    "for i in range(0,9+1):\n",
    "    print(b[i],end=\" \")\n",
    "print()  \n"
   ]
  },
  {
   "cell_type": "code",
   "execution_count": 80,
   "id": "fb1a47f2",
   "metadata": {},
   "outputs": [
    {
     "name": "stdout",
     "output_type": "stream",
     "text": [
      "The modified array is :  1 2 3 1 2 5 1 2 3"
     ]
    }
   ],
   "source": [
    "# initializing array with array values\n",
    "arr = ar.array('i',[1, 2, 3, 1, 2, 5]) \n",
    "li = [1, 2, 3]\n",
    "\n",
    "# using fromlist() to append list at end of array\n",
    "arr.fromlist(li)\n",
    "\n",
    "# printing the modified array\n",
    "print (\"The modified array is : \",*arr,end=\"\")\n",
    "\n"
   ]
  },
  {
   "cell_type": "code",
   "execution_count": 83,
   "id": "34d2f378",
   "metadata": {},
   "outputs": [
    {
     "name": "stdout",
     "output_type": "stream",
     "text": [
      "The new list created is :  1 2 3 1 2 5"
     ]
    }
   ],
   "source": [
    "# initializing array with array values\n",
    "arr = ar.array('i',[1, 2, 3, 1, 2, 5]) \n",
    "\n",
    "# using tolist() to convert array into list\n",
    "li2 = arr.tolist()\n",
    "\n",
    "# printing the new list\n",
    "print (\"The new list created is : \",*li2,end=\"\")\n"
   ]
  },
  {
   "cell_type": "markdown",
   "id": "c3309fe5",
   "metadata": {},
   "source": [
    "### Adding two string"
   ]
  },
  {
   "cell_type": "code",
   "execution_count": 3,
   "id": "4da8d75d",
   "metadata": {},
   "outputs": [
    {
     "name": "stdout",
     "output_type": "stream",
     "text": [
      "Concatenate two strings:\n",
      "['hello xyz']\n",
      "\n",
      "\n",
      "Concatenation example:\n",
      "['hello abc' 'hi xyz']\n"
     ]
    }
   ],
   "source": [
    "print('Concatenate two strings:')\n",
    "print(np.char.add(['hello'],[' xyz']))\n",
    "print('\\n')\n",
    "\n",
    "print('Concatenation example:')\n",
    "print(np.char.add(['hello', 'hi'],[' abc', ' xyz']))"
   ]
  },
  {
   "cell_type": "markdown",
   "id": "21a9b7ae",
   "metadata": {},
   "source": [
    "### Multiply two String"
   ]
  },
  {
   "cell_type": "code",
   "execution_count": 6,
   "id": "51c1cff1",
   "metadata": {},
   "outputs": [
    {
     "name": "stdout",
     "output_type": "stream",
     "text": [
      "Hello Hello Hello \n"
     ]
    }
   ],
   "source": [
    "print(np.char.multiply('Hello ',3))"
   ]
  },
  {
   "cell_type": "markdown",
   "id": "d5d10ff8",
   "metadata": {},
   "source": [
    "### Centre Alignment"
   ]
  },
  {
   "cell_type": "code",
   "execution_count": 10,
   "id": "1be488f0",
   "metadata": {},
   "outputs": [
    {
     "name": "stdout",
     "output_type": "stream",
     "text": [
      "*******hello********\n"
     ]
    }
   ],
   "source": [
    "# np.char.center(arr, width,fillchar) \n",
    "print(np.char.center('hello', 20,fillchar = '*'))"
   ]
  },
  {
   "cell_type": "markdown",
   "id": "2ac35b4f",
   "metadata": {},
   "source": [
    "### Capitalize"
   ]
  },
  {
   "cell_type": "code",
   "execution_count": 3,
   "id": "39bd5b3c",
   "metadata": {},
   "outputs": [
    {
     "name": "stdout",
     "output_type": "stream",
     "text": [
      "Hello world\n"
     ]
    }
   ],
   "source": [
    "print(np.char.capitalize('hello world'))"
   ]
  },
  {
   "cell_type": "markdown",
   "id": "b1ef5d3e",
   "metadata": {},
   "source": [
    "### Title\n",
    "* This function returns a title cased version of the input string with the first letter of each word capitalized."
   ]
  },
  {
   "cell_type": "code",
   "execution_count": 4,
   "id": "712f04b9",
   "metadata": {},
   "outputs": [
    {
     "name": "stdout",
     "output_type": "stream",
     "text": [
      "Hello How Are You?\n"
     ]
    }
   ],
   "source": [
    "print(np.char.title('hello how are you?'))"
   ]
  },
  {
   "cell_type": "markdown",
   "id": "a38cd7af",
   "metadata": {},
   "source": [
    "### lower\n",
    "* This function returns an array with elements converted to lowercase. It calls **str.lower** for each element."
   ]
  },
  {
   "cell_type": "code",
   "execution_count": 5,
   "id": "388aa532",
   "metadata": {},
   "outputs": [
    {
     "name": "stdout",
     "output_type": "stream",
     "text": [
      "['hello' 'world']\n",
      "hello\n"
     ]
    }
   ],
   "source": [
    "print(np.char.lower(['HELLO','WORLD']))\n",
    "print(np.char.lower('HELLO'))"
   ]
  },
  {
   "cell_type": "markdown",
   "id": "8fa2d162",
   "metadata": {},
   "source": [
    "### upper\n",
    "* This function calls **str.upper** function on each element in an array to return the uppercase array elements"
   ]
  },
  {
   "cell_type": "code",
   "execution_count": 7,
   "id": "f9f0952a",
   "metadata": {},
   "outputs": [
    {
     "name": "stdout",
     "output_type": "stream",
     "text": [
      "HELLO\n",
      "['HELLO' 'WORLD']\n"
     ]
    }
   ],
   "source": [
    "print(np.char.upper('hello'))\n",
    "print(np.char.upper(['hello','world']))"
   ]
  },
  {
   "cell_type": "markdown",
   "id": "05a5331f",
   "metadata": {},
   "source": [
    "### Split\n",
    "* This function returns a list of words in the input string. By default, a whitespace is used as a separator. Otherwise the specified separator character is used to spilt the string."
   ]
  },
  {
   "cell_type": "code",
   "execution_count": 9,
   "id": "e655eee8",
   "metadata": {},
   "outputs": [
    {
     "name": "stdout",
     "output_type": "stream",
     "text": [
      "['Hello', 'how', 'are', 'you']\n",
      "\n",
      "\n",
      "['Delhi', 'Mumbai', 'Bengaluru', 'Kolkata']\n"
     ]
    }
   ],
   "source": [
    "print(np.char.split('Hello how are you'))\n",
    "print('\\n')\n",
    "print(np.char.split('Delhi,Mumbai,Bengaluru,Kolkata',sep=','))"
   ]
  },
  {
   "cell_type": "markdown",
   "id": "03fac260",
   "metadata": {},
   "source": [
    "### Splitlines\n",
    "* The following functions are used to perform vectorized string operations for arrays of dtype numpy.string_ or numpy.unicode_. They are based on the standard string functions in Python's built-in library"
   ]
  },
  {
   "cell_type": "code",
   "execution_count": 11,
   "id": "cea2e34c",
   "metadata": {},
   "outputs": [
    {
     "name": "stdout",
     "output_type": "stream",
     "text": [
      "['hello', 'how are you?']\n",
      "['hello', 'how are you?']\n"
     ]
    }
   ],
   "source": [
    "print(np.char.splitlines('hello\\nhow are you?'))\n",
    "print(np.char.splitlines('hello\\rhow are you?'))"
   ]
  },
  {
   "cell_type": "markdown",
   "id": "c635bac1",
   "metadata": {},
   "source": [
    "### Strip\n",
    "* This function returns a copy of array with elements stripped of the specified characters **leading and/or trailing** in it."
   ]
  },
  {
   "cell_type": "code",
   "execution_count": 12,
   "id": "0e0aa7b5",
   "metadata": {},
   "outputs": [
    {
     "name": "stdout",
     "output_type": "stream",
     "text": [
      "shok aror\n",
      "['ror' 'dmin' 'jav']\n"
     ]
    }
   ],
   "source": [
    "print(np.char.strip('ashok arora','a'))\n",
    "print(np.char.strip(['arora','admin','java'],'a'))"
   ]
  },
  {
   "cell_type": "markdown",
   "id": "6028e54e",
   "metadata": {},
   "source": [
    "### Join\n",
    "* This method returns a string in which the **individual characters are joined by separator** character specified."
   ]
  },
  {
   "cell_type": "code",
   "execution_count": 13,
   "id": "3c69b8d6",
   "metadata": {},
   "outputs": [
    {
     "name": "stdout",
     "output_type": "stream",
     "text": [
      "d:m:y\n",
      "['d:m:y' 'y-m-d']\n"
     ]
    }
   ],
   "source": [
    "print(np.char.join(':','dmy'))\n",
    "print(np.char.join([':','-'],['dmy','ymd']))"
   ]
  },
  {
   "cell_type": "markdown",
   "id": "ae45322b",
   "metadata": {},
   "source": [
    "### Replace\n",
    "* This function returns a new copy of the input string in which all occurrences of the sequence of characters is replaced by another given sequence."
   ]
  },
  {
   "cell_type": "code",
   "execution_count": 15,
   "id": "c60c926e",
   "metadata": {},
   "outputs": [
    {
     "name": "stdout",
     "output_type": "stream",
     "text": [
      "He was a good boy\n"
     ]
    }
   ],
   "source": [
    "# np.char.replace(string, word2replace,newword)\n",
    "print(np.char.replace('He is a good boy','is','was'))"
   ]
  },
  {
   "cell_type": "code",
   "execution_count": null,
   "id": "80896269",
   "metadata": {},
   "outputs": [],
   "source": []
  },
  {
   "cell_type": "code",
   "execution_count": null,
   "id": "53bed344",
   "metadata": {},
   "outputs": [],
   "source": []
  }
 ],
 "metadata": {
  "kernelspec": {
   "display_name": "Python 3 (ipykernel)",
   "language": "python",
   "name": "python3"
  },
  "language_info": {
   "codemirror_mode": {
    "name": "ipython",
    "version": 3
   },
   "file_extension": ".py",
   "mimetype": "text/x-python",
   "name": "python",
   "nbconvert_exporter": "python",
   "pygments_lexer": "ipython3",
   "version": "3.9.12"
  }
 },
 "nbformat": 4,
 "nbformat_minor": 5
}
