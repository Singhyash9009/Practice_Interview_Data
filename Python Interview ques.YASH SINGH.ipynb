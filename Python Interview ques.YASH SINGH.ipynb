{
 "cells": [
  {
   "cell_type": "markdown",
   "id": "728eaad9",
   "metadata": {},
   "source": [
    "### 1.What is the difference between list and tuples in Python?\n",
    "\n",
    "Ans. Both list and tuples are non-homogeneous data structure that stores elements,only difference between list and tuples is that list is mutuable where as tuples is immuatable."
   ]
  },
  {
   "cell_type": "markdown",
   "id": "edd57e0f",
   "metadata": {},
   "source": [
    "### 2.What are the key features of Python?\n",
    "\n",
    "Ans.Python key features:\n",
    "* It is interpreted language doesn't need to be compiled before running like C.\n",
    "* It is dynamically typed ex- x=11, x='yash'.\n",
    "* Objected oriented programming language.\n",
    "* Functions and classes are first class object on python.\n",
    "* Have packages such as numpy,pandas and scikit learn etc. quick comapre to other language.\n",
    "* Used in many spheres such as web applications, automation, scientific modeling, big data applications and many more."
   ]
  },
  {
   "cell_type": "markdown",
   "id": "670614ab",
   "metadata": {},
   "source": [
    "### 3.\tWhat are Python namespaces?\n",
    "\n",
    "Ans.A namespace in python refers to the name which is assigned to each object in python. The objects are variables and functions. "
   ]
  },
  {
   "cell_type": "markdown",
   "id": "31330c5f",
   "metadata": {},
   "source": [
    "### 4.\tWhat are Dict and List comprehensions?\n",
    "\n",
    "Ans.A Comprehension is an elegant way of constructing a list or dictionary in Python. It allows us to loop through existing data and filter it to create a list or dictionary, or we can even loop through a sequence that we generate and make a list or dictionary from that sequence."
   ]
  },
  {
   "cell_type": "markdown",
   "id": "a2d52451",
   "metadata": {},
   "source": [
    "### 5.\tWhat are the common built-in data types in Python?\n",
    "\n",
    "Ans.The common built-in data types in python are-\n",
    "* Numbers– They include integers, floating-point numbers, and complex numbers. eg. 1, 7.9,3+4i\n",
    "* List– An ordered sequence of items is called a list. The elements of a list may belong to different data types. Eg. [5,’market’,2.4]\n",
    "* Tuple– It is also an ordered sequence of elements. Unlike lists , tuples are immutable, which means they can’t be changed. Eg. (3,’tool’,1)\n",
    "* String– A sequence of characters is called a string. They are declared within single or double-quotes. Eg. “Sana”, ‘She is going to the market’, etc.\n",
    "* Set– Sets are a collection of unique items that are not in order. Eg. {7,6,8}\n",
    "* Dictionary– A dictionary stores values in key and value pairs where each value can be accessed through its key. The order of items is not important. Eg. {1:’apple’,2:’mango}\n",
    "* Boolean– There are 2 boolean values- True and False.\n"
   ]
  },
  {
   "cell_type": "markdown",
   "id": "634d0d24",
   "metadata": {},
   "source": [
    "### 6.\tWhat are local variables and global variables in Python?\n",
    "\n",
    "Ans.\n",
    "* Global Variables: Variables declared outside a function or in a global space are called global variables. These variables can be accessed by any function in the program.\n",
    "* Local Variables: Any variable declared inside a function is known as a local variable. This variable is present in the local space and not in the global space.\n"
   ]
  },
  {
   "cell_type": "markdown",
   "id": "431c36ba",
   "metadata": {},
   "source": [
    "### 7.\tWhat is a lambda function?\n",
    "\n",
    "Ans. A Lambda Function is a small anonymous function. A lambda function can take any number of arguments, but can only have one expression."
   ]
  },
  {
   "cell_type": "markdown",
   "id": "939f204c",
   "metadata": {},
   "source": [
    "### 8.\tHow does break, continue and pass work?\n",
    "\n",
    "Ans.\n",
    "* Break:Allows loop termiation when some condition is met and the control is transferred to the next statement.\n",
    "* Continue:Allows skipping some part of a loop when some specific condition is met and the control is transferred to beginning of the loop.\n",
    "* Pass:Used when you need some block of code syntactically,but you want to skip its execution.This is basically a null operation.Nothing happens when this is executed."
   ]
  },
  {
   "cell_type": "markdown",
   "id": "71afa48c",
   "metadata": {},
   "source": [
    "### 9.\tWhat does [::-1} do?\n",
    "\n",
    "Ans.It will give error."
   ]
  },
  {
   "cell_type": "markdown",
   "id": "424a1ad8",
   "metadata": {},
   "source": [
    "### 10.\tHow can you randomize the items of a list in place in Python?\n",
    "\n",
    "Ans.The shuffle() method randomizes the items of a list in place."
   ]
  },
  {
   "cell_type": "markdown",
   "id": "602e2aae",
   "metadata": {},
   "source": [
    "### 11.\tWhat are the generators in python?\n",
    "\n",
    "Ans.In Python, a generator is a function that returns an iterator that produces a sequence of values when iterated over.\n",
    "\n",
    "Generators are useful when we want to produce a large sequence of values, but we don't want to store all of them in memory at once."
   ]
  },
  {
   "cell_type": "markdown",
   "id": "43836de8",
   "metadata": {},
   "source": [
    "### 12.\tHow to remove values to a python array?\n",
    "\n",
    "Ans.Wasys to Remove values from python array:\n",
    "* pop()\n",
    "* remove()"
   ]
  },
  {
   "cell_type": "markdown",
   "id": "884ea542",
   "metadata": {},
   "source": [
    "### 13.\tWrite a program in Python to execute the Bubble sort algorithm"
   ]
  },
  {
   "cell_type": "code",
   "execution_count": 2,
   "id": "0ec7862b",
   "metadata": {},
   "outputs": [
    {
     "data": {
      "text/plain": [
       "[1, 2, 3, 7, 9, 10, 21, 23, 34, 56]"
      ]
     },
     "execution_count": 2,
     "metadata": {},
     "output_type": "execute_result"
    }
   ],
   "source": [
    "lst=[23,34,56,1,3,2,7,9,10,21]\n",
    "for i in range(len(lst)):\n",
    "    for j in range(i+1,len(lst)):\n",
    "        if lst[i]>lst[j]:\n",
    "            lst[i],lst[j]=lst[j],lst[i]\n",
    "lst"
   ]
  },
  {
   "cell_type": "markdown",
   "id": "edb77f25",
   "metadata": {},
   "source": [
    "### 14.\tWrite a program in Python to produce Star triangle."
   ]
  },
  {
   "cell_type": "code",
   "execution_count": 4,
   "id": "5d3b62dd",
   "metadata": {},
   "outputs": [
    {
     "name": "stdout",
     "output_type": "stream",
     "text": [
      "\n",
      " *\n",
      " * *\n",
      " * * *\n",
      " * * * *\n",
      " * * * * *\n",
      " * * * * * *\n",
      " * * * * * * *\n",
      " * * * * * * * *\n",
      " * * * * * * * * *\n",
      " * * * * * * * * * *\n"
     ]
    }
   ],
   "source": [
    "for i in range(11):\n",
    "    print(i*' *')"
   ]
  },
  {
   "cell_type": "markdown",
   "id": "9eb2f02f",
   "metadata": {},
   "source": [
    "### 15.\tWrite a program to produce Fibonacci series in Python."
   ]
  },
  {
   "cell_type": "code",
   "execution_count": 5,
   "id": "1a8e5bb6",
   "metadata": {},
   "outputs": [
    {
     "name": "stdout",
     "output_type": "stream",
     "text": [
      "Enter number range: 21\n",
      "0\n",
      "1\n",
      "1\n",
      "2\n",
      "3\n",
      "5\n",
      "8\n",
      "13\n",
      "21\n"
     ]
    }
   ],
   "source": [
    "x=0\n",
    "y=1\n",
    "z=0\n",
    "num=int(input('Enter number range: '))\n",
    "while z<=num:\n",
    "    print(z)\n",
    "    x=y\n",
    "    y=z\n",
    "    z=x+y"
   ]
  },
  {
   "cell_type": "markdown",
   "id": "39eeb1d6",
   "metadata": {},
   "source": [
    "### 16.\tWrite a program in Python to check if a number is prime."
   ]
  },
  {
   "cell_type": "code",
   "execution_count": 9,
   "id": "92b92520",
   "metadata": {},
   "outputs": [
    {
     "name": "stdout",
     "output_type": "stream",
     "text": [
      "Enter number range: 40\n",
      "========================================\n",
      "No. is prime number 2\n",
      "========================================\n",
      "No. is prime number 3\n",
      "========================================\n",
      "No. is prime number 5\n",
      "========================================\n",
      "No. is prime number 7\n",
      "========================================\n",
      "No. is prime number 11\n",
      "========================================\n",
      "No. is prime number 13\n",
      "========================================\n",
      "No. is prime number 17\n",
      "========================================\n",
      "No. is prime number 19\n",
      "========================================\n",
      "No. is prime number 23\n",
      "========================================\n",
      "No. is prime number 29\n",
      "========================================\n",
      "No. is prime number 31\n",
      "========================================\n",
      "No. is prime number 37\n",
      "========================================\n"
     ]
    }
   ],
   "source": [
    "num=int(input('Enter number range: '))\n",
    "print(10*'====')\n",
    "for i in range(2,num+1):\n",
    "    for j in range(2,i):\n",
    "        if i%j==0:\n",
    "            break\n",
    "    else:\n",
    "        print('No. is prime number',i)\n",
    "        print(10*'====')"
   ]
  },
  {
   "cell_type": "markdown",
   "id": "71e2c720",
   "metadata": {},
   "source": [
    "### 17.\tWrite a one-liner that will count the number of capital letters in a file. Your code should work even if the file is too big to fit in memory"
   ]
  },
  {
   "cell_type": "code",
   "execution_count": 10,
   "id": "cb0bf0c5",
   "metadata": {},
   "outputs": [],
   "source": [
    "import collections\n",
    "from collections import Counter"
   ]
  },
  {
   "cell_type": "code",
   "execution_count": 11,
   "id": "cf2be3e8",
   "metadata": {},
   "outputs": [
    {
     "name": "stdout",
     "output_type": "stream",
     "text": [
      "Counter({'e': 10, 'a': 7, 'r': 6, 'u': 5, 'n': 5, 'i': 4, 'c': 4, 's': 4, 'm': 3, 'h': 3, 't': 2, 'o': 2, 'k': 2, 'q': 2, 'f': 2, 'b': 2, 'l': 2, 'W': 1, 'p': 1, 'g': 1, 'w': 1, 'd': 1})\n"
     ]
    }
   ],
   "source": [
    "txt='Write a program which takes a sequence of numbers and check if all numbers are unique'\n",
    "count=Counter()\n",
    "for i in txt:\n",
    "    if i.isalpha():\n",
    "        count[i]+= 1\n",
    "print(count)"
   ]
  },
  {
   "cell_type": "markdown",
   "id": "bd1ad87b",
   "metadata": {},
   "source": [
    "### 18.\tWrite a sorting algorithm for a numerical dataset in Python."
   ]
  },
  {
   "cell_type": "code",
   "execution_count": 12,
   "id": "1ac94426",
   "metadata": {},
   "outputs": [
    {
     "data": {
      "text/plain": [
       "[1, 2, 3, 7, 9, 10, 21, 23, 34, 56]"
      ]
     },
     "execution_count": 12,
     "metadata": {},
     "output_type": "execute_result"
    }
   ],
   "source": [
    "lst=[23,34,56,1,3,2,7,9,10,21]\n",
    "for i in range(len(lst)):\n",
    "    for j in range(i+1,len(lst)):\n",
    "        if lst[i]>lst[j]:\n",
    "            lst[i],lst[j]=lst[j],lst[i]\n",
    "lst"
   ]
  },
  {
   "cell_type": "markdown",
   "id": "0937bebf",
   "metadata": {},
   "source": [
    "### 19.\tAssume you can borrow the balance at the rate for the term. Define a function that returns the constant annual payment. The constant payment function for an annuity is:\n",
    "\n",
    "* P = Payment \n",
    "* PV = Present Value\n",
    "* r = rate per period \n",
    "* n = number of periods\n",
    "* P = r(PV) / (1 - (1 + r)^-n)\n",
    "\n"
   ]
  },
  {
   "cell_type": "code",
   "execution_count": 15,
   "id": "82380027",
   "metadata": {},
   "outputs": [],
   "source": [
    "def annunal_p():\n",
    "    PV=int(input('Enter the present value: '))\n",
    "    r=float(input('Enter the rate per period: '))\n",
    "    n=float(input('Enter the number of periods: '))\n",
    "    P=r*(PV)/(1-(1+r)**-n)\n",
    "    \n",
    "    print('Payment to be done',P)"
   ]
  },
  {
   "cell_type": "code",
   "execution_count": 16,
   "id": "90f6ea0f",
   "metadata": {},
   "outputs": [
    {
     "name": "stdout",
     "output_type": "stream",
     "text": [
      "Enter the present value: 1000\n",
      "Enter the rate per period: 0.5\n",
      "Enter the number of periods: 12\n",
      "Payment to be done 503.88360560923115\n"
     ]
    }
   ],
   "source": [
    "annunal_p()"
   ]
  },
  {
   "cell_type": "markdown",
   "id": "b10a7039",
   "metadata": {},
   "source": [
    "### 20.\tWrite a program to find a minimum number from an array?"
   ]
  },
  {
   "cell_type": "code",
   "execution_count": 19,
   "id": "45ea1240",
   "metadata": {},
   "outputs": [
    {
     "data": {
      "text/plain": [
       "1"
      ]
     },
     "execution_count": 19,
     "metadata": {},
     "output_type": "execute_result"
    }
   ],
   "source": [
    "import array as ar\n",
    "num=[23,34,1,2,3,4]\n",
    "arr=ar.array('i',num)\n",
    "min(arr)"
   ]
  },
  {
   "cell_type": "markdown",
   "id": "12c3e75e",
   "metadata": {},
   "source": [
    "### 21.\tGiven an array a=[1,2,3,4,5], write a program to get values of array 'a' as key elements and index of elements in array as values in the dictionary."
   ]
  },
  {
   "cell_type": "code",
   "execution_count": 20,
   "id": "d5689ca1",
   "metadata": {},
   "outputs": [
    {
     "data": {
      "text/plain": [
       "{1: 0, 2: 1, 3: 2, 4: 3, 5: 4}"
      ]
     },
     "execution_count": 20,
     "metadata": {},
     "output_type": "execute_result"
    }
   ],
   "source": [
    "a=[1,2,3,4,5]\n",
    "dic={a[i]:i for i in range(len(a))}\n",
    "dic"
   ]
  },
  {
   "cell_type": "markdown",
   "id": "8608780c",
   "metadata": {},
   "source": [
    "### 22.\tHow to get odd and even numbers from a given list"
   ]
  },
  {
   "cell_type": "code",
   "execution_count": 23,
   "id": "f5539380",
   "metadata": {},
   "outputs": [
    {
     "name": "stdout",
     "output_type": "stream",
     "text": [
      "==================================================\n",
      "No. is Even 2\n",
      "==================================================\n",
      "No. is Even 4\n",
      "==================================================\n",
      "No. is Odd 3\n",
      "==================================================\n",
      "No. is Odd 5\n",
      "==================================================\n",
      "No. is Even 6\n",
      "==================================================\n",
      "No. is Even 8\n",
      "==================================================\n",
      "No. is Odd 9\n",
      "==================================================\n",
      "No. is Even 10\n",
      "==================================================\n",
      "No. is Even 20\n",
      "==================================================\n",
      "No. is Even 12\n",
      "==================================================\n",
      "No. is Odd 23\n",
      "==================================================\n",
      "No. is Odd 21\n",
      "==================================================\n",
      "No. is Even 22\n",
      "==================================================\n",
      "No. is Even 44\n",
      "==================================================\n"
     ]
    }
   ],
   "source": [
    "lst=[2,4,3,5,6,8,9,10,20,12,23,21,22,44]\n",
    "print(10*'=====')\n",
    "for i in lst:\n",
    "    if i%2==0:\n",
    "        print('No. is Even',i)\n",
    "        print(10*'=====')\n",
    "    else:\n",
    "        print('No. is Odd',i)\n",
    "        print(10*'=====')"
   ]
  },
  {
   "cell_type": "markdown",
   "id": "acbc8046",
   "metadata": {},
   "source": [
    "### 23.\tHow to get multiple of any numbers from list"
   ]
  },
  {
   "cell_type": "code",
   "execution_count": 26,
   "id": "27634bf6",
   "metadata": {},
   "outputs": [
    {
     "name": "stdout",
     "output_type": "stream",
     "text": [
      "Enter the lower number: 12\n",
      "Enter the upper number: 56\n",
      "NumList:\n",
      " [12 13 14 15 16 17 18 19 20 21 22 23 24 25 26 27 28 29 30 31 32 33 34 35\n",
      " 36 37 38 39 40 41 42 43 44 45 46 47 48 49 50 51 52 53 54 55]\n",
      "Enter the number you want to find multiples of: 3\n",
      "Multiples of 3 are [12, 15, 18, 21, 24, 27, 30, 33, 36, 39, 42, 45, 48, 51, 54]\n"
     ]
    }
   ],
   "source": [
    "import numpy as np\n",
    "low=int(input('Enter the lower number: '))\n",
    "upp=int(input('Enter the upper number: '))\n",
    "listnum = np.arange(low,upp)\n",
    "multiples = []\n",
    "\n",
    "print(\"NumList:\\n\",listnum)\n",
    "n = int(input(\"Enter the number you want to find multiples of: \"))\n",
    "for num in listnum:\n",
    "    if num % n == 0:\n",
    "        multiples.append(num)\n",
    "print(\"Multiples of {} are {}\".format(n, multiples))"
   ]
  },
  {
   "cell_type": "markdown",
   "id": "7983ca5e",
   "metadata": {},
   "source": [
    "### 24.\tWrite a program to swap the values of a, b."
   ]
  },
  {
   "cell_type": "code",
   "execution_count": 27,
   "id": "d363e09f",
   "metadata": {},
   "outputs": [
    {
     "name": "stdout",
     "output_type": "stream",
     "text": [
      "Enter the 1st No.: 2\n",
      "Enter the 2nd No.: 3\n"
     ]
    },
    {
     "data": {
      "text/plain": [
       "(3, 2)"
      ]
     },
     "execution_count": 27,
     "metadata": {},
     "output_type": "execute_result"
    }
   ],
   "source": [
    "a=int(input('Enter the 1st No.: '))\n",
    "b=int(input('Enter the 2nd No.: '))\n",
    "temp=a\n",
    "a=b\n",
    "b=temp\n",
    "a,b"
   ]
  },
  {
   "cell_type": "markdown",
   "id": "6040a0f9",
   "metadata": {},
   "source": [
    "### 25.\tWrite a program to swap two variables without using the third variable"
   ]
  },
  {
   "cell_type": "code",
   "execution_count": 28,
   "id": "43fcf178",
   "metadata": {},
   "outputs": [
    {
     "name": "stdout",
     "output_type": "stream",
     "text": [
      "Enter the 1st No.: 2\n",
      "Enter the 2nd No.: 4\n"
     ]
    },
    {
     "data": {
      "text/plain": [
       "(4, 2)"
      ]
     },
     "execution_count": 28,
     "metadata": {},
     "output_type": "execute_result"
    }
   ],
   "source": [
    "a=int(input('Enter the 1st No.: '))\n",
    "b=int(input('Enter the 2nd No.: '))\n",
    "a,b=b,a\n",
    "a,b"
   ]
  },
  {
   "cell_type": "markdown",
   "id": "863c3b27",
   "metadata": {},
   "source": [
    "### 26. User gives the input suppose we give the input 1 and it wants to print the letter 'ONE'"
   ]
  },
  {
   "cell_type": "code",
   "execution_count": 29,
   "id": "fd988533",
   "metadata": {},
   "outputs": [
    {
     "name": "stdout",
     "output_type": "stream",
     "text": [
      "Enter the no.: 1\n",
      "One\n"
     ]
    }
   ],
   "source": [
    "us=int(input('Enter the no.: '))\n",
    "if us==1:\n",
    "    print('One')\n",
    "elif us==2:\n",
    "    print('Two')\n",
    "elif us==3:\n",
    "    print('Three')\n",
    "elif us==4:\n",
    "    print('Four')\n",
    "elif us==5:\n",
    "    print('Five')\n",
    "elif us==6:\n",
    "    print('Six')\n",
    "elif us==7:\n",
    "    print('Seven')\n",
    "elif us==8:\n",
    "    print('Eight')\n",
    "elif us==9:\n",
    "    print('Nine')"
   ]
  },
  {
   "cell_type": "markdown",
   "id": "ac214669",
   "metadata": {},
   "source": [
    "### 27.Write a program to print Armstrong Numbers."
   ]
  },
  {
   "cell_type": "code",
   "execution_count": 32,
   "id": "1dfd0257",
   "metadata": {},
   "outputs": [
    {
     "name": "stdout",
     "output_type": "stream",
     "text": [
      "Enter lower range: 100\n",
      "Enter upper range: 500\n",
      "125\n",
      "153\n",
      "216\n",
      "370\n",
      "371\n",
      "407\n"
     ]
    }
   ],
   "source": [
    "lower = int(input(\"Enter lower range: \"))  \n",
    "upper = int(input(\"Enter upper range: \"))  \n",
    "  \n",
    "for num in range(lower,upper + 1):  \n",
    "    sum = 0  \n",
    "    temp = num  \n",
    "    while temp > 0:  \n",
    "        digit = temp % 10  \n",
    "        sum += digit ** 3  \n",
    "        temp //= 10  \n",
    "        if num == sum:  \n",
    "            print(num)  "
   ]
  },
  {
   "cell_type": "markdown",
   "id": "6a10b119",
   "metadata": {},
   "source": [
    "### 28.Write a program to find a non-overlapping substring of a string"
   ]
  },
  {
   "cell_type": "code",
   "execution_count": null,
   "id": "153119b8",
   "metadata": {},
   "outputs": [],
   "source": []
  },
  {
   "cell_type": "markdown",
   "id": "0f77cba4",
   "metadata": {},
   "source": [
    "### 29.Write a program which takes a sequence of numbers and check if all numbers are unique."
   ]
  },
  {
   "cell_type": "code",
   "execution_count": 33,
   "id": "08d7d159",
   "metadata": {},
   "outputs": [
    {
     "data": {
      "text/plain": [
       "([1, 2, 3, 4, 5, 6, 7, 8, 9], [5, 3, 1, 9, 7])"
      ]
     },
     "execution_count": 33,
     "metadata": {},
     "output_type": "execute_result"
    }
   ],
   "source": [
    "lst=[1,2,3,4,5,6,5,3,1,7,8,9,9,7]\n",
    "unq=[]\n",
    "dup=[]\n",
    "for i in range(len(lst)):\n",
    "    if lst[i] not in unq:\n",
    "        unq.append(lst[i])\n",
    "    else:\n",
    "        dup.append(lst[i])\n",
    "unq,dup"
   ]
  },
  {
   "cell_type": "markdown",
   "id": "b4a5803f",
   "metadata": {},
   "source": [
    "### 30.Write a program for counting the number of every character of a given text file."
   ]
  },
  {
   "cell_type": "code",
   "execution_count": 34,
   "id": "fb05c575",
   "metadata": {},
   "outputs": [
    {
     "name": "stdout",
     "output_type": "stream",
     "text": [
      "Counter({'e': 10, 'a': 7, 'r': 6, 'u': 5, 'n': 5, 'i': 4, 'c': 4, 's': 4, 'm': 3, 'h': 3, 't': 2, 'o': 2, 'k': 2, 'q': 2, 'f': 2, 'b': 2, 'l': 2, 'W': 1, 'p': 1, 'g': 1, 'w': 1, 'd': 1})\n"
     ]
    }
   ],
   "source": [
    "txt='Write a program which takes a sequence of numbers and check if all numbers are unique'\n",
    "count=Counter()\n",
    "for i in txt:\n",
    "    if i.isalpha():\n",
    "        count[i]+= 1\n",
    "print(count)"
   ]
  },
  {
   "cell_type": "markdown",
   "id": "cde7bd0a",
   "metadata": {},
   "source": [
    "### 31.\tWrite a Program to add two integers >0 without using the plus operator"
   ]
  },
  {
   "cell_type": "code",
   "execution_count": null,
   "id": "d2535dd2",
   "metadata": {},
   "outputs": [],
   "source": []
  },
  {
   "cell_type": "markdown",
   "id": "e66fe838",
   "metadata": {},
   "source": [
    "### 32.\tWrite a Python program to check whether an accepted number is prime number."
   ]
  },
  {
   "cell_type": "code",
   "execution_count": 35,
   "id": "0eb8c7f7",
   "metadata": {},
   "outputs": [
    {
     "name": "stdout",
     "output_type": "stream",
     "text": [
      "Enter number range: 20\n",
      "========================================\n",
      "No. is prime number 2\n",
      "========================================\n",
      "No. is prime number 3\n",
      "========================================\n",
      "No. is prime number 5\n",
      "========================================\n",
      "No. is prime number 7\n",
      "========================================\n",
      "No. is prime number 11\n",
      "========================================\n",
      "No. is prime number 13\n",
      "========================================\n",
      "No. is prime number 17\n",
      "========================================\n",
      "No. is prime number 19\n",
      "========================================\n"
     ]
    }
   ],
   "source": [
    "num=int(input('Enter number range: '))\n",
    "print(10*'====')\n",
    "for i in range(2,num+1):\n",
    "    for j in range(2,i):\n",
    "        if i%j==0:\n",
    "            break\n",
    "    else:\n",
    "        print('No. is prime number',i)\n",
    "        print(10*'====')"
   ]
  },
  {
   "cell_type": "markdown",
   "id": "07a7d177",
   "metadata": {},
   "source": [
    "### 33.Write a program to print Fibonacci series."
   ]
  },
  {
   "cell_type": "code",
   "execution_count": 36,
   "id": "b4df1d1c",
   "metadata": {},
   "outputs": [
    {
     "name": "stdout",
     "output_type": "stream",
     "text": [
      "Enter number range: 30\n",
      "0\n",
      "1\n",
      "1\n",
      "2\n",
      "3\n",
      "5\n",
      "8\n",
      "13\n",
      "21\n"
     ]
    }
   ],
   "source": [
    "x=0\n",
    "y=1\n",
    "z=0\n",
    "num=int(input('Enter number range: '))\n",
    "while z<=num:\n",
    "    print(z)\n",
    "    x=y\n",
    "    y=z\n",
    "    z=x+y"
   ]
  },
  {
   "cell_type": "markdown",
   "id": "f4a1e1fb",
   "metadata": {},
   "source": [
    "### 34.\tWrite a program to check whether the entered number is palindrome."
   ]
  },
  {
   "cell_type": "code",
   "execution_count": 38,
   "id": "1856b4ed",
   "metadata": {},
   "outputs": [
    {
     "name": "stdout",
     "output_type": "stream",
     "text": [
      "Enter a string:121\n",
      "The No. is a palindrome number\n"
     ]
    }
   ],
   "source": [
    "pal=input((\"Enter a string:\"))\n",
    "if(pal==pal[::-1]):\n",
    "      print(\"The No. is a palindrome number\")\n",
    "else:\n",
    "      print(\"Not a palindrome No.\")"
   ]
  },
  {
   "cell_type": "markdown",
   "id": "0c393fd9",
   "metadata": {},
   "source": [
    "### 35.\tWrite a Python program to check if two strings are anagram."
   ]
  },
  {
   "cell_type": "code",
   "execution_count": null,
   "id": "f7909568",
   "metadata": {},
   "outputs": [],
   "source": []
  },
  {
   "cell_type": "code",
   "execution_count": null,
   "id": "3145a89a",
   "metadata": {},
   "outputs": [],
   "source": []
  },
  {
   "cell_type": "code",
   "execution_count": null,
   "id": "4eed022b",
   "metadata": {},
   "outputs": [],
   "source": []
  }
 ],
 "metadata": {
  "kernelspec": {
   "display_name": "Python 3 (ipykernel)",
   "language": "python",
   "name": "python3"
  },
  "language_info": {
   "codemirror_mode": {
    "name": "ipython",
    "version": 3
   },
   "file_extension": ".py",
   "mimetype": "text/x-python",
   "name": "python",
   "nbconvert_exporter": "python",
   "pygments_lexer": "ipython3",
   "version": "3.9.12"
  }
 },
 "nbformat": 4,
 "nbformat_minor": 5
}
