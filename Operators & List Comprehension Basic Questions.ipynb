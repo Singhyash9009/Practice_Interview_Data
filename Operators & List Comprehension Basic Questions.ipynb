{
 "cells": [
  {
   "cell_type": "markdown",
   "id": "1df5a88c",
   "metadata": {},
   "source": [
    "## 1.Operators in Python"
   ]
  },
  {
   "cell_type": "markdown",
   "id": "8b2a20fb",
   "metadata": {},
   "source": [
    "| Operators          |               Type            |               Type                                                  |\n",
    "|--------------------|-------------------------------|--------------------------------------------------------------       |\n",
    "|    **+,-,*,/,//,%**| **Arithmetic Operator**       | **Performs operations like addition, subtraction, multiplication, and division.**|\n",
    "| **<,<=,>,>=,==,!=**| **Relational Operator**       |**In Python Comparison of Relational operators compares the values. It either returns True or False according to the condition.**|\n",
    "| **&&,!,//**        | **Logical Operator**          |**Python Logical operators perform Logical AND, Logical OR, and Logical NOT operations. It is used to combine conditional statements.**|\n",
    "| **&,/,<<,>>,~,^**  | **Bitwise Operator**          |**Python Bitwise operators act on bits and perform bit-by-bit operations. These are used to operate on binary numbers.** |\n",
    "| ***=,+=,-=,***=,%= | **Assignment Operator**       | **Python Assignment operators are used to assign values to the variables.**|"
   ]
  },
  {
   "cell_type": "markdown",
   "id": "318dd65f",
   "metadata": {},
   "source": [
    "### Logical Operators"
   ]
  },
  {
   "cell_type": "markdown",
   "id": "f602c1f0",
   "metadata": {},
   "source": [
    "| Operators          |               Description                                               | Syntax  \n",
    "|--------------------|-------------------------------------------------------------------------|--------------------------|\n",
    "|    **and**         | **Logical AND: True if both the operands are true**                     |     x and y              |\n",
    "| **or**             | **Relational OperatoLogical OR: True if either of the operands is true**|       x or y             |\n",
    "| **not**            | **Logical NOT: True if the operand is false**                           |       not x              |\n",
    " "
   ]
  },
  {
   "cell_type": "markdown",
   "id": "e622eb9d",
   "metadata": {},
   "source": [
    "The precedence of Logical Operators in Python is as follows:\n",
    "\n",
    "* Logical not\n",
    "* logical and\n",
    "* logical or"
   ]
  },
  {
   "cell_type": "markdown",
   "id": "b5ce31fa",
   "metadata": {},
   "source": [
    "### Assignment Operators"
   ]
  },
  {
   "cell_type": "markdown",
   "id": "63fd495d",
   "metadata": {},
   "source": [
    "| Operators          |               Description                                               | Syntax  \n",
    "|--------------------|-------------------------------------------------------------------------|--------------------------|\n",
    "|    **=**         | **Assign the value of the right side of the expression to the left side operand**                     |     **x=y+z**                                  |\n",
    "| **+=**           | **Add AND: Add right-side operand with left-side operand and then assign to left operand**|**x+=y is same as x=x+y**                                 |\n",
    "| **-=**           | **Subtract AND: Subtract right operand from left operand and then assign to left operand**|     **x-=y is same as x=x-y**                            |\n",
    "| ***=**           | **Multiply AND: Multiply right operand with left operand and then assign to left operand**|     **x***=**y** is same as **x**=**x** * **y**|\n",
    "| **/=**           | **Divide AND: Divide left operand with right operand and then assign to left operand**       |     **a/=b is same as a=a/y**                        |\n",
    "| **%=**           | **Modulus AND: Takes modulus using left and right operands and assign the result to left operand** |     **a%=b is same as a=a%y**            |\n",
    "| **//=**          | **Divide(floor) AND: Divide left operand with right operand and then assign the value(floor) to left operand** |     **a//=b is same as a=a//y**            |\n"
   ]
  },
  {
   "cell_type": "markdown",
   "id": "0c614df5",
   "metadata": {},
   "source": [
    "### Identity Operators in Python\n",
    "* In Python, **is** and **is not** are identity operators both are used to check if two values are locaed on the same part of memory."
   ]
  },
  {
   "cell_type": "markdown",
   "id": "dbb2f4d6",
   "metadata": {},
   "source": [
    "| Operators |                                              |\n",
    "|-----------|----------------------------------------------|\n",
    "|    **is** | **True if the operands are identical**       |\n",
    "| **is not**| **True if the operands are not identical**   | "
   ]
  },
  {
   "cell_type": "markdown",
   "id": "e24fce3b",
   "metadata": {},
   "source": [
    "### Membership Operators in Python\n",
    "* In Python, in and not in are the membership operators that are used to test whether a **value or variable is in a sequence**."
   ]
  },
  {
   "cell_type": "markdown",
   "id": "7b1541d0",
   "metadata": {},
   "source": [
    "| Operators |                                                   |\n",
    "|-----------|---------------------------------------------------|\n",
    "|    **in** | **True if the value is found in the sequence**    |\n",
    "| **not in**| **True if the value is not found in the sequence**| "
   ]
  },
  {
   "cell_type": "code",
   "execution_count": 1,
   "id": "bc1d9706",
   "metadata": {},
   "outputs": [
    {
     "name": "stdout",
     "output_type": "stream",
     "text": [
      "x is NOT present in given list\n",
      "y is present in given list\n"
     ]
    }
   ],
   "source": [
    "x = 24\n",
    "y = 20\n",
    "list = [10, 20, 30, 40, 50]\n",
    "\n",
    "if (x not in list):\n",
    "    print(\"x is NOT present in given list\")\n",
    "else:\n",
    "    print(\"x is present in given list\")\n",
    "\n",
    "if (y in list):\n",
    "    print(\"y is present in given list\")\n",
    "else:\n",
    "    print(\"y is NOT present in given list\")"
   ]
  },
  {
   "cell_type": "markdown",
   "id": "fd275c9c",
   "metadata": {},
   "source": [
    "### Ternary Operator\n",
    "* The Python ternary operator determines if a condition is true or false and then returns the appropriate value in accordance with the result. \n",
    "* The ternary operator is useful in cases where we need to assign a value to a variable based on a simple condition, and **we want to keep our code more concise — all in just one line of code**.\n",
    "* It’s particularly handy when you want to avoid writing multiple lines for a simple if-else situation.\n",
    "\n"
   ]
  },
  {
   "cell_type": "code",
   "execution_count": 2,
   "id": "5a210135",
   "metadata": {},
   "outputs": [
    {
     "name": "stdout",
     "output_type": "stream",
     "text": [
      "10\n"
     ]
    }
   ],
   "source": [
    "# Program to demonstrate conditional operator\n",
    "a, b = 10, 20\n",
    " \n",
    "# Copy value of a in min if a < b else copy b\n",
    "min = a if a < b  else b\n",
    "\n",
    "print(min)"
   ]
  },
  {
   "cell_type": "code",
   "execution_count": 3,
   "id": "df58b6af",
   "metadata": {},
   "outputs": [
    {
     "name": "stdout",
     "output_type": "stream",
     "text": [
      "b is greater than a\n"
     ]
    }
   ],
   "source": [
    "a, b = 10, 20\n",
    "\n",
    "if a != b:\n",
    "    if a > b:\n",
    "        print(\"a is greater than b\")\n",
    "    else:\n",
    "        print(\"b is greater than a\")\n",
    "else:\n",
    "    print(\"Both a and b are equal\")\n"
   ]
  },
  {
   "cell_type": "code",
   "execution_count": 4,
   "id": "501903d0",
   "metadata": {},
   "outputs": [
    {
     "name": "stdout",
     "output_type": "stream",
     "text": [
      "b is greater than a\n"
     ]
    }
   ],
   "source": [
    "a, b=10, 20\n",
    "\n",
    "print('Both a and b are equal' if a==b else 'a is greater than b' if a > b else 'b is greater than a')"
   ]
  },
  {
   "cell_type": "markdown",
   "id": "0fb8914a",
   "metadata": {},
   "source": [
    "### Python Ternary Operator using Tuples\n",
    "* In this example, we are using tuples to demonstrate ternary operator. We are using tuple for selecting an item\n",
    "* if **[a<b] is true** it return 1, **so element with 1 index will print.** \n",
    "* else if **[a<b] is false** it return 0, **so element with 0 index will print.**"
   ]
  },
  {
   "cell_type": "code",
   "execution_count": 5,
   "id": "f9f318f8",
   "metadata": {},
   "outputs": [
    {
     "name": "stdout",
     "output_type": "stream",
     "text": [
      "10\n"
     ]
    }
   ],
   "source": [
    "a, b =10,20\n",
    "\n",
    "print((b,a) [a<b])\n",
    "\n"
   ]
  },
  {
   "cell_type": "markdown",
   "id": "1adac701",
   "metadata": {},
   "source": [
    "* Here,output is 10 because at 'index 1' number '10' is present."
   ]
  },
  {
   "cell_type": "markdown",
   "id": "30946bb7",
   "metadata": {},
   "source": [
    "### Python Ternary Operator using Dictionary\n"
   ]
  },
  {
   "cell_type": "code",
   "execution_count": 6,
   "id": "7fe41072",
   "metadata": {},
   "outputs": [
    {
     "name": "stdout",
     "output_type": "stream",
     "text": [
      "10\n"
     ]
    }
   ],
   "source": [
    "a, b =10, 20\n",
    "\n",
    "print({True: a, False : b} [a < b])"
   ]
  },
  {
   "cell_type": "markdown",
   "id": "471b5a9b",
   "metadata": {},
   "source": [
    "### Python Ternary Operator using Lambda\n",
    "* This is a list containing two lambda functions.\n",
    "* When the condition a < b is True, the first lambda function lambda: 'b' will be selected.\n",
    "* When the condition a < b is False, the second lambda function lambda: 'a' will be selected.\n",
    "* ():This calls the lambda function selected from the list."
   ]
  },
  {
   "cell_type": "code",
   "execution_count": 7,
   "id": "eeaabc6d",
   "metadata": {},
   "outputs": [
    {
     "name": "stdout",
     "output_type": "stream",
     "text": [
      "10\n"
     ]
    }
   ],
   "source": [
    "a, b =10, 20\n",
    "\n",
    "print((lambda : b ,lambda : a)  [a < b]())"
   ]
  },
  {
   "cell_type": "code",
   "execution_count": 8,
   "id": "1c3c43e8",
   "metadata": {},
   "outputs": [
    {
     "name": "stdout",
     "output_type": "stream",
     "text": [
      "7 is Greater\n"
     ]
    }
   ],
   "source": [
    "a=5\n",
    "b=7\n",
    "\n",
    "# [statement_on_True] if [condition] else [statement_on_false] \n",
    "print(a,\"is greater\") if (a>b) else print(b,\"is Greater\")\n"
   ]
  },
  {
   "cell_type": "markdown",
   "id": "24741af9",
   "metadata": {},
   "source": [
    "## 2.List Comprehension\n",
    "A Python list comprehension consists of brackets containing the expression, which is executed for each element along with the for loop to iterate over each element in the Python list. "
   ]
  },
  {
   "cell_type": "markdown",
   "id": "7d9379ce",
   "metadata": {},
   "source": [
    "* **Syntax: newList = [ expression(element) for element in oldList if condition ]**\n",
    "\n",
    "* **Parameter:**\n",
    "\n",
    "  * **expression:** Represents the operation you want to execute on every item within the iterable.\n",
    "  * **element:** The term “variable” refers to each value taken from the iterable.\n",
    "  * **iterable:** specify the sequence of elements you want to iterate through.(e.g., a list, tuple, or string).\n",
    "  * **condition:** (Optional) A filter helps decide whether or not an element should be added to the new list.\n",
    "\n",
    "* **Return:** The return value of a list comprehension is a new list containing the modified elements that satisfy the given criteria."
   ]
  },
  {
   "cell_type": "code",
   "execution_count": 9,
   "id": "0ebac7d8",
   "metadata": {},
   "outputs": [
    {
     "name": "stdout",
     "output_type": "stream",
     "text": [
      "Enter the Lower no. of list:1\n",
      "Enter the Upper no. of list:20\n",
      "[1, 2, 3, 4, 5, 6, 7, 8, 9, 10, 11, 12, 13, 14, 15, 16, 17, 18, 19, 20]\n",
      "Double of numbers:  [2, 4, 6, 8, 10, 12, 14, 16, 18, 20, 22, 24, 26, 28, 30, 32, 34, 36, 38, 40]\n"
     ]
    }
   ],
   "source": [
    "# user input\n",
    "l_numbers = int(input(\"Enter the Lower no. of list:\"))\n",
    "u_numbers = int(input(\"Enter the Upper no. of list:\"))\n",
    "\n",
    "l=[]\n",
    "for num in range(l_numbers,u_numbers+1):\n",
    "    l.append(num)\n",
    "print(l)\n",
    "#Double of numbers\n",
    "print('Double of numbers: ',[x*2 for x in l])"
   ]
  },
  {
   "cell_type": "code",
   "execution_count": 10,
   "id": "b2956aa0",
   "metadata": {},
   "outputs": [
    {
     "name": "stdout",
     "output_type": "stream",
     "text": [
      "Enter the Lower no. of list:1\n",
      "Enter the Upper no. of list:10\n",
      "[1, 2, 3, 4, 5, 6, 7, 8, 9, 10]\n",
      "Square of numbers:  [1, 4, 9, 16, 25, 36, 49, 64, 81, 100]\n"
     ]
    }
   ],
   "source": [
    "# user input\n",
    "l_numbers = int(input(\"Enter the Lower no. of list:\"))\n",
    "u_numbers = int(input(\"Enter the Upper no. of list:\"))\n",
    "\n",
    "l=[]\n",
    "for num in range(l_numbers,u_numbers+1):\n",
    "    l.append(num)\n",
    "print(l)\n",
    "#Print square of numbers\n",
    "print('Square of numbers: ',[x**2 for x in l])"
   ]
  },
  {
   "cell_type": "code",
   "execution_count": 11,
   "id": "396e2be0",
   "metadata": {},
   "outputs": [
    {
     "name": "stdout",
     "output_type": "stream",
     "text": [
      "Even numbers from range of numbers:  [0, 2, 4, 6, 8, 10]\n"
     ]
    }
   ],
   "source": [
    "#Printing even numbers with help of list comprehension\n",
    "\n",
    "print('Even numbers from range of numbers: ',[i for i in range(11) if i%2==0])"
   ]
  },
  {
   "cell_type": "code",
   "execution_count": 12,
   "id": "c3527b79",
   "metadata": {},
   "outputs": [
    {
     "data": {
      "text/plain": [
       "[[0, 1, 2], [0, 1, 2], [0, 1, 2]]"
      ]
     },
     "execution_count": 12,
     "metadata": {},
     "output_type": "execute_result"
    }
   ],
   "source": [
    "# Matrix making through list comprehension\n",
    "\n",
    "[[j for j in range(3)] for i in range(3)]"
   ]
  },
  {
   "cell_type": "code",
   "execution_count": 13,
   "id": "623039e1",
   "metadata": {},
   "outputs": [
    {
     "name": "stdout",
     "output_type": "stream",
     "text": [
      "['H', 'e', 'l', 'l', 'o', ' ', 'A', 'l', 'l', ' ', 'W', 'e', 'l', 'c', 'o', 'm', 'e', ' ', 't', 'o', ' ', 'J', 'u', 'p', 'y', 't', 'e', 'r', ' ', 'N', 'o', 't', 'e', 'b', 'o', 'o', 'k', '!', '!', '!']\n",
      "Hello All Welcome to Jupyter Notebook!!!\n"
     ]
    }
   ],
   "source": [
    "#Storing strings in list with help of List comprehension\n",
    "print([character for character in 'Hello All Welcome to Jupyter Notebook!!!'])\n",
    "\n",
    "#Returing strings if from List comprehension\n",
    "print(''.join([character for character in 'Hello All Welcome to Jupyter Notebook!!!']))\n",
    "\n"
   ]
  },
  {
   "cell_type": "code",
   "execution_count": 14,
   "id": "778c26bd",
   "metadata": {},
   "outputs": [
    {
     "name": "stdout",
     "output_type": "stream",
     "text": [
      "['H', 'e', 'l', 'l', 'o', 'A', 'l', 'l', 'W', 'e', 'l', 'c', 'o', 'm', 'e', 't', 'o', 'J', 'u', 'p', 'y', 't', 'e', 'r', 'N', 'o', 't', 'e', 'b', 'o', 'o', 'k', '!', '!', '!']\n",
      " HelloAllWelcometoJupyterNotebook!!!\n"
     ]
    }
   ],
   "source": [
    "# Printing list comprehension without after removing spaces from strings \n",
    "print([character for character in 'Hello All Welcome to Jupyter Notebook!!!' if character!=' '],end='')\n",
    "\n",
    "#Returing strings if from List comprehension\n",
    "print('\\n',''.join([character for character in 'Hello All Welcome to Jupyter Notebook!!!'if character!=' ']))\n",
    "\n"
   ]
  },
  {
   "cell_type": "code",
   "execution_count": 15,
   "id": "9fe787fc",
   "metadata": {},
   "outputs": [
    {
     "name": "stdout",
     "output_type": "stream",
     "text": [
      "Hello All Welcome to Jupyter Notebook!!!"
     ]
    }
   ],
   "source": [
    "st='Hello All Welcome to Jupyter Notebook!!!'\n",
    "\n",
    "for word in st:\n",
    "    print(word[::-1],end='')"
   ]
  },
  {
   "cell_type": "code",
   "execution_count": 16,
   "id": "fba68e51",
   "metadata": {},
   "outputs": [
    {
     "name": "stdout",
     "output_type": "stream",
     "text": [
      "Hello All Welcome to Jupyter Notebook!!!\n",
      "\n",
      "By traditional for loop:  olleH llA emocleW ot retypuJ !!!koobetoN\n",
      "\n",
      "By List Comprehension  :  olleH llA emocleW ot retypuJ !!!koobetoN\n"
     ]
    }
   ],
   "source": [
    "print('Hello All Welcome to Jupyter Notebook!!!')\n",
    "print()\n",
    "# Reversing word of string on its place\n",
    "l=[]\n",
    "for word in st.split(' '):\n",
    "    l.append(word[::-1])\n",
    "\n",
    "\n",
    "print('By traditional for loop: ',' '.join(l))\n",
    "print()\n",
    "print('By List Comprehension  : ',' '.join([word[::-1] for word in st.split(' ')]))"
   ]
  },
  {
   "cell_type": "code",
   "execution_count": 1,
   "id": "2bfd5fd5",
   "metadata": {},
   "outputs": [
    {
     "name": "stdout",
     "output_type": "stream",
     "text": [
      "Squaring using List Comprehension: [0, 1, 4, 9, 16, 25, 36, 49, 64, 81, 100]\n",
      "\n",
      "Squaring using Lambda function: [0, 1, 4, 9, 16, 25, 36, 49, 64, 81, 100]\n",
      "\n",
      "Squaring using Lambda function + List Comprehension: [0, 1, 4, 9, 16, 25, 36, 49, 64, 81, 100]\n",
      "\n"
     ]
    }
   ],
   "source": [
    "# Squaring using List Comprehension\n",
    "print('Squaring using List Comprehension:',[i**2 for i in range(11)])\n",
    "print()\n",
    "\n",
    "# Squaring using Lambda function\n",
    "print('Squaring using Lambda function:',list(map(lambda x: x**2,range(11))))\n",
    "print()\n",
    "\n",
    "print('Squaring using Lambda function + List Comprehension:',list(map(lambda x: x**2,[x for x in range(11)])))\n",
    "print()"
   ]
  },
  {
   "cell_type": "code",
   "execution_count": 2,
   "id": "6d94b8d4",
   "metadata": {},
   "outputs": [
    {
     "data": {
      "text/plain": [
       "['Odd number : 1',\n",
       " 'Even number : 2',\n",
       " 'Odd number : 3',\n",
       " 'Even number : 4',\n",
       " 'Odd number : 5',\n",
       " 'Even number : 6',\n",
       " 'Odd number : 7',\n",
       " 'Even number : 8',\n",
       " 'Odd number : 9',\n",
       " 'Even number : 10',\n",
       " 'Odd number : 11',\n",
       " 'Even number : 12',\n",
       " 'Odd number : 13',\n",
       " 'Even number : 14',\n",
       " 'Odd number : 15',\n",
       " 'Even number : 16',\n",
       " 'Odd number : 17',\n",
       " 'Even number : 18',\n",
       " 'Odd number : 19']"
      ]
     },
     "execution_count": 2,
     "metadata": {},
     "output_type": "execute_result"
    }
   ],
   "source": [
    "# List comprehension using If-Else\n",
    "\n",
    "[f'Even number : {num}' if num%2==0 else f'Odd number : {num}' for num in range(1,20)]"
   ]
  },
  {
   "cell_type": "code",
   "execution_count": 3,
   "id": "a852d8c1",
   "metadata": {},
   "outputs": [
    {
     "data": {
      "text/plain": [
       "[0, 10, 20, 30, 40, 50, 60, 70, 80, 90, 100]"
      ]
     },
     "execution_count": 3,
     "metadata": {},
     "output_type": "execute_result"
    }
   ],
   "source": [
    "# Nested If-Else\n",
    "\n",
    "[num for num in range(101) if num%5==0 if num%10==0]"
   ]
  },
  {
   "cell_type": "code",
   "execution_count": 4,
   "id": "6ed0e401",
   "metadata": {},
   "outputs": [
    {
     "name": "stdout",
     "output_type": "stream",
     "text": [
      "[('Ram', 23), ('Shyam', 24), ('Ghanshyam', 25)]\n"
     ]
    },
    {
     "data": {
      "text/html": [
       "<div>\n",
       "<style scoped>\n",
       "    .dataframe tbody tr th:only-of-type {\n",
       "        vertical-align: middle;\n",
       "    }\n",
       "\n",
       "    .dataframe tbody tr th {\n",
       "        vertical-align: top;\n",
       "    }\n",
       "\n",
       "    .dataframe thead th {\n",
       "        text-align: right;\n",
       "    }\n",
       "</style>\n",
       "<table border=\"1\" class=\"dataframe\">\n",
       "  <thead>\n",
       "    <tr style=\"text-align: right;\">\n",
       "      <th></th>\n",
       "      <th>Names</th>\n",
       "      <th>Ages</th>\n",
       "    </tr>\n",
       "  </thead>\n",
       "  <tbody>\n",
       "    <tr>\n",
       "      <th>0</th>\n",
       "      <td>Ram</td>\n",
       "      <td>23</td>\n",
       "    </tr>\n",
       "    <tr>\n",
       "      <th>1</th>\n",
       "      <td>Shyam</td>\n",
       "      <td>24</td>\n",
       "    </tr>\n",
       "    <tr>\n",
       "      <th>2</th>\n",
       "      <td>Ghanshyam</td>\n",
       "      <td>25</td>\n",
       "    </tr>\n",
       "  </tbody>\n",
       "</table>\n",
       "</div>"
      ],
      "text/plain": [
       "       Names  Ages\n",
       "0        Ram    23\n",
       "1      Shyam    24\n",
       "2  Ghanshyam    25"
      ]
     },
     "execution_count": 4,
     "metadata": {},
     "output_type": "execute_result"
    }
   ],
   "source": [
    "import pandas as pd\n",
    "names=['Ram','Shyam','Ghanshyam']\n",
    "ages =[23,24,25]\n",
    "\n",
    "#Using list comprehension making tuples of name and age\n",
    "print([(name,age) for name, age  in zip(names,ages)])\n",
    "\n",
    "pd.DataFrame({(name,age) for name, age  in zip(names,ages)},columns=['Names','Ages'])"
   ]
  },
  {
   "cell_type": "code",
   "execution_count": 5,
   "id": "a1e163c8",
   "metadata": {},
   "outputs": [
    {
     "data": {
      "text/plain": [
       "[5, 6, 6, 6]"
      ]
     },
     "execution_count": 5,
     "metadata": {},
     "output_type": "execute_result"
    }
   ],
   "source": [
    "#Calulating length of each words\n",
    "words = [\"apple\", \"banana\", \"cherry\", \"orange\"] \n",
    "[len(word) for word in words]"
   ]
  },
  {
   "cell_type": "code",
   "execution_count": 6,
   "id": "367e5669",
   "metadata": {},
   "outputs": [
    {
     "name": "stdout",
     "output_type": "stream",
     "text": [
      "[2, 3, 5, 7, 11, 13, 17, 19, 23, 29, 31, 37, 41, 43, 47]\n"
     ]
    }
   ],
   "source": [
    "noprimes = [j for i in range(2, 8) for j in range(i*2, 50, i)]  \n",
    "primes = [x for x in range(2, 50) if x not in noprimes]  \n",
    "print (primes) "
   ]
  },
  {
   "cell_type": "code",
   "execution_count": 7,
   "id": "84248b4b",
   "metadata": {},
   "outputs": [
    {
     "name": "stdout",
     "output_type": "stream",
     "text": [
      "Using traditional for loop extracting prime nos.: \n",
      "2 3 5 7 11 13 17 19 23 29 31 37 \n",
      "\n",
      "\r\n",
      "Using List Comprehension extracting prime nos.:  [2, 3, 5, 7, 11, 13, 17, 19, 23, 29, 31, 37]\n"
     ]
    }
   ],
   "source": [
    "print('Using traditional for loop extracting prime nos.: ')\n",
    "for i in range(2,40):\n",
    "    for j in range(2,i):\n",
    "        if i%j==0:\n",
    "            break\n",
    "    else:\n",
    "        print(i,end=' ')\n",
    "print()\n",
    "print()\n",
    "print('\\rUsing List Comprehension extracting prime nos.: ',[i for i in range(2, 40) if all(i % j != 0 for j in range(2, i))])"
   ]
  },
  {
   "cell_type": "code",
   "execution_count": 8,
   "id": "80181493",
   "metadata": {},
   "outputs": [
    {
     "name": "stdout",
     "output_type": "stream",
     "text": [
      "Extracting phone number from the string using list comprehension:  11122\n"
     ]
    }
   ],
   "source": [
    "string = \"my phone number is : 11122 !!\"\n",
    "print('Extracting phone number from the string using list comprehension: ',''.join([x for x in string if x.isnumeric()]))"
   ]
  },
  {
   "cell_type": "code",
   "execution_count": 9,
   "id": "55a82788",
   "metadata": {},
   "outputs": [
    {
     "name": "stdout",
     "output_type": "stream",
     "text": [
      "Doing squaring of numbers,after which are divisble by 5 and are odd nos.:  [25, 225, 625]\n"
     ]
    }
   ],
   "source": [
    "print('Doing squaring of numbers,after which are divisble by 5 and are odd nos.: ',list(filter(lambda x: x%5==0,[x**2 for x in range(1,30) if x%2!=0])))"
   ]
  }
 ],
 "metadata": {
  "kernelspec": {
   "display_name": "Python 3 (ipykernel)",
   "language": "python",
   "name": "python3"
  },
  "language_info": {
   "codemirror_mode": {
    "name": "ipython",
    "version": 3
   },
   "file_extension": ".py",
   "mimetype": "text/x-python",
   "name": "python",
   "nbconvert_exporter": "python",
   "pygments_lexer": "ipython3",
   "version": "3.9.12"
  }
 },
 "nbformat": 4,
 "nbformat_minor": 5
}
